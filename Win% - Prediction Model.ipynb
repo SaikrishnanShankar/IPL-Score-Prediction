{
 "cells": [
  {
   "cell_type": "markdown",
   "metadata": {
    "id": "v8N7zofnlHVK"
   },
   "source": [
    "## Imports & Load dataset:"
   ]
  },
  {
   "cell_type": "code",
   "execution_count": 1,
   "metadata": {
    "executionInfo": {
     "elapsed": 585,
     "status": "ok",
     "timestamp": 1621847045063,
     "user": {
      "displayName": "Aditya Goenka",
      "photoUrl": "https://lh3.googleusercontent.com/a-/AOh14GioItRIgYpNUWaQmBPNyAk55MEwwhs5ktCDhuH-qw=s64",
      "userId": "10576928572249427265"
     },
     "user_tz": -330
    },
    "id": "kgXMDLkRlHVN"
   },
   "outputs": [],
   "source": [
    "import pandas as pd\n",
    "import numpy as np\n",
    "import matplotlib.pyplot as plt\n",
    "\n",
    "import warnings\n",
    "warnings.filterwarnings('ignore')\n",
    "\n",
    "#to display all rows columns \n",
    "pd.set_option('display.max_rows', None)\n",
    "pd.set_option('display.max_columns', None)  \n",
    "pd.set_option('display.expand_frame_repr', False)\n",
    "pd.set_option('max_colwidth', -1)"
   ]
  },
  {
   "cell_type": "code",
   "execution_count": 2,
   "metadata": {
    "colab": {
     "base_uri": "https://localhost:8080/",
     "height": 385
    },
    "executionInfo": {
     "elapsed": 1146,
     "status": "error",
     "timestamp": 1621847046202,
     "user": {
      "displayName": "Aditya Goenka",
      "photoUrl": "https://lh3.googleusercontent.com/a-/AOh14GioItRIgYpNUWaQmBPNyAk55MEwwhs5ktCDhuH-qw=s64",
      "userId": "10576928572249427265"
     },
     "user_tz": -330
    },
    "id": "QwurX9DZlHVN",
    "outputId": "c0596316-2ef3-459e-d662-fc89eb9ed0fa"
   },
   "outputs": [],
   "source": [
    "ipl_df = pd.read_csv('ipl_ball_by_ball_data.csv')"
   ]
  },
  {
   "cell_type": "markdown",
   "metadata": {
    "id": "ojrB80SGlHVO"
   },
   "source": [
    "## Sneak peak into the data: "
   ]
  },
  {
   "cell_type": "code",
   "execution_count": 3,
   "metadata": {
    "executionInfo": {
     "elapsed": 1105,
     "status": "aborted",
     "timestamp": 1621847046164,
     "user": {
      "displayName": "Aditya Goenka",
      "photoUrl": "https://lh3.googleusercontent.com/a-/AOh14GioItRIgYpNUWaQmBPNyAk55MEwwhs5ktCDhuH-qw=s64",
      "userId": "10576928572249427265"
     },
     "user_tz": -330
    },
    "id": "ChfQ93BHlHVO"
   },
   "outputs": [
    {
     "data": {
      "text/html": [
       "<div>\n",
       "<style scoped>\n",
       "    .dataframe tbody tr th:only-of-type {\n",
       "        vertical-align: middle;\n",
       "    }\n",
       "\n",
       "    .dataframe tbody tr th {\n",
       "        vertical-align: top;\n",
       "    }\n",
       "\n",
       "    .dataframe thead th {\n",
       "        text-align: right;\n",
       "    }\n",
       "</style>\n",
       "<table border=\"1\" class=\"dataframe\">\n",
       "  <thead>\n",
       "    <tr style=\"text-align: right;\">\n",
       "      <th></th>\n",
       "      <th>match_id</th>\n",
       "      <th>season</th>\n",
       "      <th>start_date</th>\n",
       "      <th>venue</th>\n",
       "      <th>innings</th>\n",
       "      <th>ball</th>\n",
       "      <th>batting_team</th>\n",
       "      <th>bowling_team</th>\n",
       "      <th>striker</th>\n",
       "      <th>non_striker</th>\n",
       "      <th>bowler</th>\n",
       "      <th>runs_off_bat</th>\n",
       "      <th>extras</th>\n",
       "      <th>wides</th>\n",
       "      <th>noballs</th>\n",
       "      <th>byes</th>\n",
       "      <th>legbyes</th>\n",
       "      <th>penalty</th>\n",
       "      <th>wicket_type</th>\n",
       "      <th>player_dismissed</th>\n",
       "      <th>other_wicket_type</th>\n",
       "      <th>other_player_dismissed</th>\n",
       "    </tr>\n",
       "  </thead>\n",
       "  <tbody>\n",
       "    <tr>\n",
       "      <th>0</th>\n",
       "      <td>335982</td>\n",
       "      <td>2008</td>\n",
       "      <td>2008-04-18</td>\n",
       "      <td>M Chinnaswamy Stadium</td>\n",
       "      <td>1</td>\n",
       "      <td>0.1</td>\n",
       "      <td>Kolkata Knight Riders</td>\n",
       "      <td>Royal Challengers Bangalore</td>\n",
       "      <td>SC Ganguly</td>\n",
       "      <td>BB McCullum</td>\n",
       "      <td>P Kumar</td>\n",
       "      <td>0</td>\n",
       "      <td>1</td>\n",
       "      <td>NaN</td>\n",
       "      <td>NaN</td>\n",
       "      <td>NaN</td>\n",
       "      <td>1.0</td>\n",
       "      <td>NaN</td>\n",
       "      <td>NaN</td>\n",
       "      <td>NaN</td>\n",
       "      <td>NaN</td>\n",
       "      <td>NaN</td>\n",
       "    </tr>\n",
       "    <tr>\n",
       "      <th>1</th>\n",
       "      <td>335982</td>\n",
       "      <td>2008</td>\n",
       "      <td>2008-04-18</td>\n",
       "      <td>M Chinnaswamy Stadium</td>\n",
       "      <td>2</td>\n",
       "      <td>3.1</td>\n",
       "      <td>Royal Challengers Bangalore</td>\n",
       "      <td>Kolkata Knight Riders</td>\n",
       "      <td>W Jaffer</td>\n",
       "      <td>JH Kallis</td>\n",
       "      <td>I Sharma</td>\n",
       "      <td>2</td>\n",
       "      <td>0</td>\n",
       "      <td>NaN</td>\n",
       "      <td>NaN</td>\n",
       "      <td>NaN</td>\n",
       "      <td>NaN</td>\n",
       "      <td>NaN</td>\n",
       "      <td>NaN</td>\n",
       "      <td>NaN</td>\n",
       "      <td>NaN</td>\n",
       "      <td>NaN</td>\n",
       "    </tr>\n",
       "    <tr>\n",
       "      <th>2</th>\n",
       "      <td>335982</td>\n",
       "      <td>2008</td>\n",
       "      <td>2008-04-18</td>\n",
       "      <td>M Chinnaswamy Stadium</td>\n",
       "      <td>2</td>\n",
       "      <td>3.2</td>\n",
       "      <td>Royal Challengers Bangalore</td>\n",
       "      <td>Kolkata Knight Riders</td>\n",
       "      <td>W Jaffer</td>\n",
       "      <td>JH Kallis</td>\n",
       "      <td>I Sharma</td>\n",
       "      <td>1</td>\n",
       "      <td>0</td>\n",
       "      <td>NaN</td>\n",
       "      <td>NaN</td>\n",
       "      <td>NaN</td>\n",
       "      <td>NaN</td>\n",
       "      <td>NaN</td>\n",
       "      <td>NaN</td>\n",
       "      <td>NaN</td>\n",
       "      <td>NaN</td>\n",
       "      <td>NaN</td>\n",
       "    </tr>\n",
       "    <tr>\n",
       "      <th>3</th>\n",
       "      <td>335982</td>\n",
       "      <td>2008</td>\n",
       "      <td>2008-04-18</td>\n",
       "      <td>M Chinnaswamy Stadium</td>\n",
       "      <td>2</td>\n",
       "      <td>3.3</td>\n",
       "      <td>Royal Challengers Bangalore</td>\n",
       "      <td>Kolkata Knight Riders</td>\n",
       "      <td>JH Kallis</td>\n",
       "      <td>W Jaffer</td>\n",
       "      <td>I Sharma</td>\n",
       "      <td>0</td>\n",
       "      <td>0</td>\n",
       "      <td>NaN</td>\n",
       "      <td>NaN</td>\n",
       "      <td>NaN</td>\n",
       "      <td>NaN</td>\n",
       "      <td>NaN</td>\n",
       "      <td>NaN</td>\n",
       "      <td>NaN</td>\n",
       "      <td>NaN</td>\n",
       "      <td>NaN</td>\n",
       "    </tr>\n",
       "    <tr>\n",
       "      <th>4</th>\n",
       "      <td>335982</td>\n",
       "      <td>2008</td>\n",
       "      <td>2008-04-18</td>\n",
       "      <td>M Chinnaswamy Stadium</td>\n",
       "      <td>2</td>\n",
       "      <td>3.4</td>\n",
       "      <td>Royal Challengers Bangalore</td>\n",
       "      <td>Kolkata Knight Riders</td>\n",
       "      <td>JH Kallis</td>\n",
       "      <td>W Jaffer</td>\n",
       "      <td>I Sharma</td>\n",
       "      <td>0</td>\n",
       "      <td>1</td>\n",
       "      <td>NaN</td>\n",
       "      <td>NaN</td>\n",
       "      <td>NaN</td>\n",
       "      <td>1.0</td>\n",
       "      <td>NaN</td>\n",
       "      <td>NaN</td>\n",
       "      <td>NaN</td>\n",
       "      <td>NaN</td>\n",
       "      <td>NaN</td>\n",
       "    </tr>\n",
       "  </tbody>\n",
       "</table>\n",
       "</div>"
      ],
      "text/plain": [
       "   match_id  season  start_date                  venue  innings  ball                 batting_team                 bowling_team     striker  non_striker    bowler  runs_off_bat  extras  wides  noballs  byes  legbyes  penalty wicket_type player_dismissed  other_wicket_type  other_player_dismissed\n",
       "0  335982    2008    2008-04-18  M Chinnaswamy Stadium  1        0.1   Kolkata Knight Riders        Royal Challengers Bangalore  SC Ganguly  BB McCullum  P Kumar   0             1      NaN    NaN      NaN    1.0     NaN       NaN         NaN             NaN                NaN                    \n",
       "1  335982    2008    2008-04-18  M Chinnaswamy Stadium  2        3.1   Royal Challengers Bangalore  Kolkata Knight Riders        W Jaffer    JH Kallis    I Sharma  2             0      NaN    NaN      NaN   NaN      NaN       NaN         NaN             NaN                NaN                    \n",
       "2  335982    2008    2008-04-18  M Chinnaswamy Stadium  2        3.2   Royal Challengers Bangalore  Kolkata Knight Riders        W Jaffer    JH Kallis    I Sharma  1             0      NaN    NaN      NaN   NaN      NaN       NaN         NaN             NaN                NaN                    \n",
       "3  335982    2008    2008-04-18  M Chinnaswamy Stadium  2        3.3   Royal Challengers Bangalore  Kolkata Knight Riders        JH Kallis   W Jaffer     I Sharma  0             0      NaN    NaN      NaN   NaN      NaN       NaN         NaN             NaN                NaN                    \n",
       "4  335982    2008    2008-04-18  M Chinnaswamy Stadium  2        3.4   Royal Challengers Bangalore  Kolkata Knight Riders        JH Kallis   W Jaffer     I Sharma  0             1      NaN    NaN      NaN    1.0     NaN       NaN         NaN             NaN                NaN                    "
      ]
     },
     "execution_count": 3,
     "metadata": {},
     "output_type": "execute_result"
    }
   ],
   "source": [
    "ipl_df.head(5)"
   ]
  },
  {
   "cell_type": "code",
   "execution_count": 4,
   "metadata": {
    "executionInfo": {
     "elapsed": 1106,
     "status": "aborted",
     "timestamp": 1621847046165,
     "user": {
      "displayName": "Aditya Goenka",
      "photoUrl": "https://lh3.googleusercontent.com/a-/AOh14GioItRIgYpNUWaQmBPNyAk55MEwwhs5ktCDhuH-qw=s64",
      "userId": "10576928572249427265"
     },
     "user_tz": -330
    },
    "id": "ASOvY1NnlHVP"
   },
   "outputs": [
    {
     "data": {
      "text/plain": [
       "array(['Kolkata Knight Riders', 'Royal Challengers Bangalore',\n",
       "       'Rajasthan Royals', 'Kings XI Punjab', 'Delhi Daredevils',\n",
       "       'Chennai Super Kings', 'Deccan Chargers', 'Mumbai Indians',\n",
       "       'Kochi Tuskers Kerala', 'Pune Warriors', 'Sunrisers Hyderabad',\n",
       "       'Rising Pune Supergiants', 'Gujarat Lions',\n",
       "       'Rising Pune Supergiant', 'Delhi Capitals', 'Punjab Kings'],\n",
       "      dtype=object)"
      ]
     },
     "execution_count": 4,
     "metadata": {},
     "output_type": "execute_result"
    }
   ],
   "source": [
    "ipl_df.batting_team.unique()"
   ]
  },
  {
   "cell_type": "code",
   "execution_count": 5,
   "metadata": {
    "executionInfo": {
     "elapsed": 1107,
     "status": "aborted",
     "timestamp": 1621847046166,
     "user": {
      "displayName": "Aditya Goenka",
      "photoUrl": "https://lh3.googleusercontent.com/a-/AOh14GioItRIgYpNUWaQmBPNyAk55MEwwhs5ktCDhuH-qw=s64",
      "userId": "10576928572249427265"
     },
     "user_tz": -330
    },
    "id": "ERvhh1JDlHVP"
   },
   "outputs": [
    {
     "data": {
      "text/plain": [
       "array([1, 2, 4, 3, 5, 6])"
      ]
     },
     "execution_count": 5,
     "metadata": {},
     "output_type": "execute_result"
    }
   ],
   "source": [
    "ipl_df.innings.unique()"
   ]
  },
  {
   "cell_type": "code",
   "execution_count": 6,
   "metadata": {
    "executionInfo": {
     "elapsed": 29,
     "status": "aborted",
     "timestamp": 1621847046177,
     "user": {
      "displayName": "Aditya Goenka",
      "photoUrl": "https://lh3.googleusercontent.com/a-/AOh14GioItRIgYpNUWaQmBPNyAk55MEwwhs5ktCDhuH-qw=s64",
      "userId": "10576928572249427265"
     },
     "user_tz": -330
    },
    "id": "zITAJAvnlHVP"
   },
   "outputs": [],
   "source": [
    "ipl_df = ipl_df[(ipl_df.innings == 1) | (ipl_df.innings == 2)]"
   ]
  },
  {
   "cell_type": "code",
   "execution_count": 7,
   "metadata": {
    "executionInfo": {
     "elapsed": 30,
     "status": "aborted",
     "timestamp": 1621847046178,
     "user": {
      "displayName": "Aditya Goenka",
      "photoUrl": "https://lh3.googleusercontent.com/a-/AOh14GioItRIgYpNUWaQmBPNyAk55MEwwhs5ktCDhuH-qw=s64",
      "userId": "10576928572249427265"
     },
     "user_tz": -330
    },
    "id": "cj-iC9InlHVQ"
   },
   "outputs": [
    {
     "data": {
      "text/plain": [
       "array([1, 2])"
      ]
     },
     "execution_count": 7,
     "metadata": {},
     "output_type": "execute_result"
    }
   ],
   "source": [
    "ipl_df.innings.unique()"
   ]
  },
  {
   "cell_type": "markdown",
   "metadata": {
    "id": "nvrh4C4IlHVQ"
   },
   "source": [
    "## Additional Colums:"
   ]
  },
  {
   "cell_type": "code",
   "execution_count": 8,
   "metadata": {
    "executionInfo": {
     "elapsed": 30,
     "status": "aborted",
     "timestamp": 1621847046178,
     "user": {
      "displayName": "Aditya Goenka",
      "photoUrl": "https://lh3.googleusercontent.com/a-/AOh14GioItRIgYpNUWaQmBPNyAk55MEwwhs5ktCDhuH-qw=s64",
      "userId": "10576928572249427265"
     },
     "user_tz": -330
    },
    "id": "_quhBQxPlHVQ"
   },
   "outputs": [],
   "source": [
    "# 1. total runs in each ball\n",
    "# 2. is there a wicket fall in that ball"
   ]
  },
  {
   "cell_type": "code",
   "execution_count": 9,
   "metadata": {
    "executionInfo": {
     "elapsed": 29,
     "status": "aborted",
     "timestamp": 1621847046178,
     "user": {
      "displayName": "Aditya Goenka",
      "photoUrl": "https://lh3.googleusercontent.com/a-/AOh14GioItRIgYpNUWaQmBPNyAk55MEwwhs5ktCDhuH-qw=s64",
      "userId": "10576928572249427265"
     },
     "user_tz": -330
    },
    "id": "9cFNYa5XlHVQ"
   },
   "outputs": [],
   "source": [
    "ipl_df['total_runs'] = ipl_df.apply(lambda x: x['runs_off_bat'] + x['extras'], axis = 1)"
   ]
  },
  {
   "cell_type": "code",
   "execution_count": 10,
   "metadata": {
    "executionInfo": {
     "elapsed": 30,
     "status": "aborted",
     "timestamp": 1621847046179,
     "user": {
      "displayName": "Aditya Goenka",
      "photoUrl": "https://lh3.googleusercontent.com/a-/AOh14GioItRIgYpNUWaQmBPNyAk55MEwwhs5ktCDhuH-qw=s64",
      "userId": "10576928572249427265"
     },
     "user_tz": -330
    },
    "id": "1PQyXrijlHVR"
   },
   "outputs": [],
   "source": [
    "# ipl_df.head(20)"
   ]
  },
  {
   "cell_type": "code",
   "execution_count": 11,
   "metadata": {
    "executionInfo": {
     "elapsed": 30,
     "status": "aborted",
     "timestamp": 1621847046179,
     "user": {
      "displayName": "Aditya Goenka",
      "photoUrl": "https://lh3.googleusercontent.com/a-/AOh14GioItRIgYpNUWaQmBPNyAk55MEwwhs5ktCDhuH-qw=s64",
      "userId": "10576928572249427265"
     },
     "user_tz": -330
    },
    "id": "Q2KhGkXKlHVR"
   },
   "outputs": [
    {
     "data": {
      "text/plain": [
       "str"
      ]
     },
     "execution_count": 11,
     "metadata": {},
     "output_type": "execute_result"
    }
   ],
   "source": [
    "type(ipl_df.player_dismissed[11])"
   ]
  },
  {
   "cell_type": "code",
   "execution_count": 12,
   "metadata": {
    "executionInfo": {
     "elapsed": 30,
     "status": "aborted",
     "timestamp": 1621847046179,
     "user": {
      "displayName": "Aditya Goenka",
      "photoUrl": "https://lh3.googleusercontent.com/a-/AOh14GioItRIgYpNUWaQmBPNyAk55MEwwhs5ktCDhuH-qw=s64",
      "userId": "10576928572249427265"
     },
     "user_tz": -330
    },
    "id": "G4LfDcCnlHVR"
   },
   "outputs": [],
   "source": [
    "ipl_df['isOut'] = ipl_df['player_dismissed'].apply(lambda x: 1 if type(x) == type('str') else 0)"
   ]
  },
  {
   "cell_type": "code",
   "execution_count": 13,
   "metadata": {
    "executionInfo": {
     "elapsed": 30,
     "status": "aborted",
     "timestamp": 1621847046180,
     "user": {
      "displayName": "Aditya Goenka",
      "photoUrl": "https://lh3.googleusercontent.com/a-/AOh14GioItRIgYpNUWaQmBPNyAk55MEwwhs5ktCDhuH-qw=s64",
      "userId": "10576928572249427265"
     },
     "user_tz": -330
    },
    "id": "yDf1rLQRlHVR"
   },
   "outputs": [],
   "source": [
    "# ipl_df.head(15)"
   ]
  },
  {
   "cell_type": "markdown",
   "metadata": {
    "id": "3wifw6n-lHVS"
   },
   "source": [
    "## Choose Teams:"
   ]
  },
  {
   "cell_type": "code",
   "execution_count": 14,
   "metadata": {
    "executionInfo": {
     "elapsed": 30,
     "status": "aborted",
     "timestamp": 1621847046180,
     "user": {
      "displayName": "Aditya Goenka",
      "photoUrl": "https://lh3.googleusercontent.com/a-/AOh14GioItRIgYpNUWaQmBPNyAk55MEwwhs5ktCDhuH-qw=s64",
      "userId": "10576928572249427265"
     },
     "user_tz": -330
    },
    "id": "ZBq5cjLplHVS"
   },
   "outputs": [],
   "source": [
    "# t1 - bat first, t2 - bat second\n",
    "# Ex: MI vs RCB, (match_id: 1254058) \n",
    "\n",
    "t1 = 'Mumbai Indians'\n",
    "t2 = 'Royal Challengers Bangalore'"
   ]
  },
  {
   "cell_type": "code",
   "execution_count": null,
   "metadata": {
    "executionInfo": {
     "elapsed": 30,
     "status": "aborted",
     "timestamp": 1621847046180,
     "user": {
      "displayName": "Aditya Goenka",
      "photoUrl": "https://lh3.googleusercontent.com/a-/AOh14GioItRIgYpNUWaQmBPNyAk55MEwwhs5ktCDhuH-qw=s64",
      "userId": "10576928572249427265"
     },
     "user_tz": -330
    },
    "id": "pjxWc6j6lHVS"
   },
   "outputs": [],
   "source": []
  },
  {
   "cell_type": "markdown",
   "metadata": {
    "id": "RwGW00I7lHVS"
   },
   "source": [
    "## Choose a Match b/w these Teams:"
   ]
  },
  {
   "cell_type": "code",
   "execution_count": 15,
   "metadata": {
    "executionInfo": {
     "elapsed": 31,
     "status": "aborted",
     "timestamp": 1621847046181,
     "user": {
      "displayName": "Aditya Goenka",
      "photoUrl": "https://lh3.googleusercontent.com/a-/AOh14GioItRIgYpNUWaQmBPNyAk55MEwwhs5ktCDhuH-qw=s64",
      "userId": "10576928572249427265"
     },
     "user_tz": -330
    },
    "id": "ON--7tTmlHVS"
   },
   "outputs": [
    {
     "data": {
      "text/plain": [
       "array([ 335985,  392208,  392218,  419119,  419157,  419162,  548360,\n",
       "        598033,  729287,  733983,  829737, 1136574, 1175362, 1254058])"
      ]
     },
     "execution_count": 15,
     "metadata": {},
     "output_type": "execute_result"
    }
   ],
   "source": [
    "ipl_df[(ipl_df.batting_team == t1) & (ipl_df.bowling_team == t2) & (ipl_df.innings == 1)].match_id.unique()"
   ]
  },
  {
   "cell_type": "code",
   "execution_count": 16,
   "metadata": {
    "executionInfo": {
     "elapsed": 30,
     "status": "aborted",
     "timestamp": 1621847046181,
     "user": {
      "displayName": "Aditya Goenka",
      "photoUrl": "https://lh3.googleusercontent.com/a-/AOh14GioItRIgYpNUWaQmBPNyAk55MEwwhs5ktCDhuH-qw=s64",
      "userId": "10576928572249427265"
     },
     "user_tz": -330
    },
    "id": "UnZBmOazlHVT"
   },
   "outputs": [],
   "source": [
    "matchID = 1254058"
   ]
  },
  {
   "cell_type": "code",
   "execution_count": 18,
   "metadata": {
    "executionInfo": {
     "elapsed": 30,
     "status": "aborted",
     "timestamp": 1621847046181,
     "user": {
      "displayName": "Aditya Goenka",
      "photoUrl": "https://lh3.googleusercontent.com/a-/AOh14GioItRIgYpNUWaQmBPNyAk55MEwwhs5ktCDhuH-qw=s64",
      "userId": "10576928572249427265"
     },
     "user_tz": -330
    },
    "id": "R0C2PSgNlHVT"
   },
   "outputs": [],
   "source": [
    "mdf = ipl_df[ipl_df.match_id == matchID]"
   ]
  },
  {
   "cell_type": "code",
   "execution_count": 19,
   "metadata": {
    "executionInfo": {
     "elapsed": 31,
     "status": "aborted",
     "timestamp": 1621847046182,
     "user": {
      "displayName": "Aditya Goenka",
      "photoUrl": "https://lh3.googleusercontent.com/a-/AOh14GioItRIgYpNUWaQmBPNyAk55MEwwhs5ktCDhuH-qw=s64",
      "userId": "10576928572249427265"
     },
     "user_tz": -330
    },
    "id": "T32gc5IwlHVT"
   },
   "outputs": [],
   "source": [
    "# mdf.head()"
   ]
  },
  {
   "cell_type": "code",
   "execution_count": 20,
   "metadata": {
    "executionInfo": {
     "elapsed": 31,
     "status": "aborted",
     "timestamp": 1621847046182,
     "user": {
      "displayName": "Aditya Goenka",
      "photoUrl": "https://lh3.googleusercontent.com/a-/AOh14GioItRIgYpNUWaQmBPNyAk55MEwwhs5ktCDhuH-qw=s64",
      "userId": "10576928572249427265"
     },
     "user_tz": -330
    },
    "id": "sL-woYR0lHVT"
   },
   "outputs": [],
   "source": [
    "mdf.reset_index(inplace = True, drop = True)"
   ]
  },
  {
   "cell_type": "code",
   "execution_count": 21,
   "metadata": {
    "executionInfo": {
     "elapsed": 30,
     "status": "aborted",
     "timestamp": 1621847046182,
     "user": {
      "displayName": "Aditya Goenka",
      "photoUrl": "https://lh3.googleusercontent.com/a-/AOh14GioItRIgYpNUWaQmBPNyAk55MEwwhs5ktCDhuH-qw=s64",
      "userId": "10576928572249427265"
     },
     "user_tz": -330
    },
    "id": "85i8-eijlHVT"
   },
   "outputs": [],
   "source": [
    "# mdf.head()"
   ]
  },
  {
   "cell_type": "code",
   "execution_count": 22,
   "metadata": {
    "executionInfo": {
     "elapsed": 31,
     "status": "aborted",
     "timestamp": 1621847046183,
     "user": {
      "displayName": "Aditya Goenka",
      "photoUrl": "https://lh3.googleusercontent.com/a-/AOh14GioItRIgYpNUWaQmBPNyAk55MEwwhs5ktCDhuH-qw=s64",
      "userId": "10576928572249427265"
     },
     "user_tz": -330
    },
    "id": "H9GQDSPWlHVU"
   },
   "outputs": [],
   "source": [
    "df1 = mdf[mdf.innings == 1] \n",
    "df2 = mdf[mdf.innings == 2] "
   ]
  },
  {
   "cell_type": "markdown",
   "metadata": {
    "id": "FBGDuSRflHVU"
   },
   "source": [
    "## Outcomes:"
   ]
  },
  {
   "cell_type": "code",
   "execution_count": 23,
   "metadata": {
    "executionInfo": {
     "elapsed": 31,
     "status": "aborted",
     "timestamp": 1621847046183,
     "user": {
      "displayName": "Aditya Goenka",
      "photoUrl": "https://lh3.googleusercontent.com/a-/AOh14GioItRIgYpNUWaQmBPNyAk55MEwwhs5ktCDhuH-qw=s64",
      "userId": "10576928572249427265"
     },
     "user_tz": -330
    },
    "id": "56jLqN2DlHVU"
   },
   "outputs": [],
   "source": [
    "# 0, 1, 2, 3, 4, 5, 6, 7, 'W', 'extras'\n",
    "outcomes = [0, 1, 2, 3, 4, 6, 'w']"
   ]
  },
  {
   "cell_type": "code",
   "execution_count": 24,
   "metadata": {
    "executionInfo": {
     "elapsed": 31,
     "status": "aborted",
     "timestamp": 1621847046183,
     "user": {
      "displayName": "Aditya Goenka",
      "photoUrl": "https://lh3.googleusercontent.com/a-/AOh14GioItRIgYpNUWaQmBPNyAk55MEwwhs5ktCDhuH-qw=s64",
      "userId": "10576928572249427265"
     },
     "user_tz": -330
    },
    "id": "FshlQphglHVU"
   },
   "outputs": [
    {
     "data": {
      "text/plain": [
       "1    10347\n",
       "0    9050 \n",
       "4    2932 \n",
       "2    1575 \n",
       "6    1270 \n",
       "3    92   \n",
       "5    47   \n",
       "7    7    \n",
       "Name: total_runs, dtype: int64"
      ]
     },
     "execution_count": 24,
     "metadata": {},
     "output_type": "execute_result"
    }
   ],
   "source": [
    "ipl_df[ipl_df.batting_team == t1].total_runs.value_counts()"
   ]
  },
  {
   "cell_type": "code",
   "execution_count": 25,
   "metadata": {
    "executionInfo": {
     "elapsed": 31,
     "status": "aborted",
     "timestamp": 1621847046184,
     "user": {
      "displayName": "Aditya Goenka",
      "photoUrl": "https://lh3.googleusercontent.com/a-/AOh14GioItRIgYpNUWaQmBPNyAk55MEwwhs5ktCDhuH-qw=s64",
      "userId": "10576928572249427265"
     },
     "user_tz": -330
    },
    "id": "upgv1bnAlHVU"
   },
   "outputs": [
    {
     "data": {
      "text/plain": [
       "1237"
      ]
     },
     "execution_count": 25,
     "metadata": {},
     "output_type": "execute_result"
    }
   ],
   "source": [
    "ipl_df[ipl_df.batting_team == t1].isOut.sum()"
   ]
  },
  {
   "cell_type": "code",
   "execution_count": 26,
   "metadata": {
    "executionInfo": {
     "elapsed": 31,
     "status": "aborted",
     "timestamp": 1621847046184,
     "user": {
      "displayName": "Aditya Goenka",
      "photoUrl": "https://lh3.googleusercontent.com/a-/AOh14GioItRIgYpNUWaQmBPNyAk55MEwwhs5ktCDhuH-qw=s64",
      "userId": "10576928572249427265"
     },
     "user_tz": -330
    },
    "id": "aTEz4bxflHVV"
   },
   "outputs": [],
   "source": [
    "t1_outcomes_count = ipl_df[ipl_df.batting_team == t1].total_runs.value_counts()\n",
    "t2_outcomes_count = ipl_df[ipl_df.batting_team == t2].total_runs.value_counts()"
   ]
  },
  {
   "cell_type": "code",
   "execution_count": 27,
   "metadata": {
    "executionInfo": {
     "elapsed": 31,
     "status": "aborted",
     "timestamp": 1621847046184,
     "user": {
      "displayName": "Aditya Goenka",
      "photoUrl": "https://lh3.googleusercontent.com/a-/AOh14GioItRIgYpNUWaQmBPNyAk55MEwwhs5ktCDhuH-qw=s64",
      "userId": "10576928572249427265"
     },
     "user_tz": -330
    },
    "id": "4zGI5eYZlHVV"
   },
   "outputs": [],
   "source": [
    "t1_outs = ipl_df[ipl_df.batting_team == t1].isOut.sum()\n",
    "t2_outs = ipl_df[ipl_df.batting_team == t2].isOut.sum()"
   ]
  },
  {
   "cell_type": "code",
   "execution_count": 28,
   "metadata": {
    "executionInfo": {
     "elapsed": 32,
     "status": "aborted",
     "timestamp": 1621847046185,
     "user": {
      "displayName": "Aditya Goenka",
      "photoUrl": "https://lh3.googleusercontent.com/a-/AOh14GioItRIgYpNUWaQmBPNyAk55MEwwhs5ktCDhuH-qw=s64",
      "userId": "10576928572249427265"
     },
     "user_tz": -330
    },
    "id": "rDkKr8OylHVV"
   },
   "outputs": [],
   "source": [
    "t1_outcomes = []\n",
    "t2_outcomes = []\n",
    "\n",
    "for outcome in outcomes:\n",
    "    if outcome != 'w':\n",
    "        t1_outcomes.append(t1_outcomes_count[outcome])\n",
    "        t2_outcomes.append(t2_outcomes_count[outcome])\n",
    "    else:\n",
    "        t1_outcomes.append(t1_outs)\n",
    "        t2_outcomes.append(t2_outs)"
   ]
  },
  {
   "cell_type": "code",
   "execution_count": 29,
   "metadata": {
    "executionInfo": {
     "elapsed": 32,
     "status": "aborted",
     "timestamp": 1621847046185,
     "user": {
      "displayName": "Aditya Goenka",
      "photoUrl": "https://lh3.googleusercontent.com/a-/AOh14GioItRIgYpNUWaQmBPNyAk55MEwwhs5ktCDhuH-qw=s64",
      "userId": "10576928572249427265"
     },
     "user_tz": -330
    },
    "id": "Kb9VSQUdlHVV"
   },
   "outputs": [
    {
     "data": {
      "text/plain": [
       "([9050, 10347, 1575, 92, 2932, 1270, 1237],\n",
       " [8277, 9698, 1570, 73, 2659, 1227, 1158])"
      ]
     },
     "execution_count": 29,
     "metadata": {},
     "output_type": "execute_result"
    }
   ],
   "source": [
    "t1_outcomes, t2_outcomes"
   ]
  },
  {
   "cell_type": "code",
   "execution_count": 30,
   "metadata": {
    "executionInfo": {
     "elapsed": 31,
     "status": "aborted",
     "timestamp": 1621847046185,
     "user": {
      "displayName": "Aditya Goenka",
      "photoUrl": "https://lh3.googleusercontent.com/a-/AOh14GioItRIgYpNUWaQmBPNyAk55MEwwhs5ktCDhuH-qw=s64",
      "userId": "10576928572249427265"
     },
     "user_tz": -330
    },
    "id": "EtaZmc_rlHVV"
   },
   "outputs": [],
   "source": [
    "t1_pb_outcomes = [i/sum(t1_outcomes) for i in t1_outcomes]\n",
    "t2_pb_outcomes = [i/sum(t2_outcomes) for i in t2_outcomes]"
   ]
  },
  {
   "cell_type": "code",
   "execution_count": 31,
   "metadata": {
    "executionInfo": {
     "elapsed": 32,
     "status": "aborted",
     "timestamp": 1621847046186,
     "user": {
      "displayName": "Aditya Goenka",
      "photoUrl": "https://lh3.googleusercontent.com/a-/AOh14GioItRIgYpNUWaQmBPNyAk55MEwwhs5ktCDhuH-qw=s64",
      "userId": "10576928572249427265"
     },
     "user_tz": -330
    },
    "id": "BZf3rElJlHVW"
   },
   "outputs": [
    {
     "data": {
      "text/plain": [
       "[0.3414707768931819,\n",
       " 0.3904086329849451,\n",
       " 0.05942723465268083,\n",
       " 0.0034713051352677055,\n",
       " 0.11062898539787948,\n",
       " 0.04791910349771724,\n",
       " 0.046673961438327735]"
      ]
     },
     "execution_count": 31,
     "metadata": {},
     "output_type": "execute_result"
    }
   ],
   "source": [
    "t1_pb_outcomes"
   ]
  },
  {
   "cell_type": "code",
   "execution_count": 32,
   "metadata": {
    "executionInfo": {
     "elapsed": 33,
     "status": "aborted",
     "timestamp": 1621847046187,
     "user": {
      "displayName": "Aditya Goenka",
      "photoUrl": "https://lh3.googleusercontent.com/a-/AOh14GioItRIgYpNUWaQmBPNyAk55MEwwhs5ktCDhuH-qw=s64",
      "userId": "10576928572249427265"
     },
     "user_tz": -330
    },
    "id": "AKcT-WBslHVW"
   },
   "outputs": [],
   "source": [
    "# (0 --> 1)\n",
    "# ex: \n",
    "# dot - 34%\n",
    "# ones - 34% + 39% = 73%"
   ]
  },
  {
   "cell_type": "code",
   "execution_count": 33,
   "metadata": {
    "executionInfo": {
     "elapsed": 33,
     "status": "aborted",
     "timestamp": 1621847046187,
     "user": {
      "displayName": "Aditya Goenka",
      "photoUrl": "https://lh3.googleusercontent.com/a-/AOh14GioItRIgYpNUWaQmBPNyAk55MEwwhs5ktCDhuH-qw=s64",
      "userId": "10576928572249427265"
     },
     "user_tz": -330
    },
    "id": "PWnJwHKClHVW"
   },
   "outputs": [],
   "source": [
    "t1_pb_ls = np.cumsum(t1_pb_outcomes)\n",
    "t2_pb_ls = np.cumsum(t2_pb_outcomes)"
   ]
  },
  {
   "cell_type": "code",
   "execution_count": 34,
   "metadata": {
    "executionInfo": {
     "elapsed": 33,
     "status": "aborted",
     "timestamp": 1621847046187,
     "user": {
      "displayName": "Aditya Goenka",
      "photoUrl": "https://lh3.googleusercontent.com/a-/AOh14GioItRIgYpNUWaQmBPNyAk55MEwwhs5ktCDhuH-qw=s64",
      "userId": "10576928572249427265"
     },
     "user_tz": -330
    },
    "id": "YJn3097_lHVW"
   },
   "outputs": [
    {
     "data": {
      "text/plain": [
       "(array([0.34147078, 0.73187941, 0.79130664, 0.79477795, 0.90540694,\n",
       "        0.95332604, 1.        ]),\n",
       " array([0.33561755, 0.72885411, 0.7925148 , 0.79547482, 0.90329251,\n",
       "        0.95304517, 1.        ]))"
      ]
     },
     "execution_count": 34,
     "metadata": {},
     "output_type": "execute_result"
    }
   ],
   "source": [
    "t1_pb_ls, t2_pb_ls"
   ]
  },
  {
   "cell_type": "code",
   "execution_count": 35,
   "metadata": {
    "executionInfo": {
     "elapsed": 34,
     "status": "aborted",
     "timestamp": 1621847046188,
     "user": {
      "displayName": "Aditya Goenka",
      "photoUrl": "https://lh3.googleusercontent.com/a-/AOh14GioItRIgYpNUWaQmBPNyAk55MEwwhs5ktCDhuH-qw=s64",
      "userId": "10576928572249427265"
     },
     "user_tz": -330
    },
    "id": "RHMRjHyqlHVW"
   },
   "outputs": [
    {
     "data": {
      "text/plain": [
       "0.6452610471656725"
      ]
     },
     "execution_count": 35,
     "metadata": {},
     "output_type": "execute_result"
    }
   ],
   "source": [
    "np.random.random()"
   ]
  },
  {
   "cell_type": "code",
   "execution_count": 36,
   "metadata": {
    "executionInfo": {
     "elapsed": 33,
     "status": "aborted",
     "timestamp": 1621847046188,
     "user": {
      "displayName": "Aditya Goenka",
      "photoUrl": "https://lh3.googleusercontent.com/a-/AOh14GioItRIgYpNUWaQmBPNyAk55MEwwhs5ktCDhuH-qw=s64",
      "userId": "10576928572249427265"
     },
     "user_tz": -330
    },
    "id": "ra66SDABlHVX"
   },
   "outputs": [],
   "source": [
    "# run it for 120 balls & determine runs\n",
    "\n",
    "pred_runs = 0\n",
    "pred_wks = 0\n",
    "balls = 120\n",
    "\n",
    "i1p_0 = t1_pb_ls[0]\n",
    "i1p_1 = t1_pb_ls[1]\n",
    "i1p_2 = t1_pb_ls[2]\n",
    "i1p_3 = t1_pb_ls[3]\n",
    "i1p_4 = t1_pb_ls[4]\n",
    "i1p_6 = t1_pb_ls[5]\n",
    "i1p_w = t1_pb_ls[6]\n",
    "\n",
    "i2p_0 = t2_pb_ls[0]\n",
    "i2p_1 = t2_pb_ls[1]\n",
    "i2p_2 = t2_pb_ls[2]\n",
    "i2p_3 = t2_pb_ls[3]\n",
    "i2p_4 = t2_pb_ls[4]\n",
    "i2p_6 = t2_pb_ls[5]\n",
    "i2p_w = t2_pb_ls[6]\n",
    "\n",
    "for i in range(balls):\n",
    "    r_value = np.random.random()\n",
    "    \n",
    "    if r_value <= i1p_0:\n",
    "        pred_runs += 0\n",
    "    elif r_value <= i1p_1:\n",
    "        pred_runs += 1\n",
    "    elif r_value <= i1p_2:\n",
    "        pred_runs += 2\n",
    "    elif r_value <= i1p_3:\n",
    "        pred_runs += 3\n",
    "    elif r_value <= i1p_4:\n",
    "        pred_runs += 4\n",
    "    elif r_value <= i1p_6:\n",
    "        pred_runs += 6\n",
    "    else:\n",
    "        pred_runs += 0\n",
    "        pred_wks += 1   \n",
    "        \n",
    "        if pred_wks == 10:\n",
    "            break"
   ]
  },
  {
   "cell_type": "code",
   "execution_count": 37,
   "metadata": {
    "executionInfo": {
     "elapsed": 33,
     "status": "aborted",
     "timestamp": 1621847046188,
     "user": {
      "displayName": "Aditya Goenka",
      "photoUrl": "https://lh3.googleusercontent.com/a-/AOh14GioItRIgYpNUWaQmBPNyAk55MEwwhs5ktCDhuH-qw=s64",
      "userId": "10576928572249427265"
     },
     "user_tz": -330
    },
    "id": "xefBU-tvlHVX",
    "scrolled": true
   },
   "outputs": [
    {
     "data": {
      "text/plain": [
       "(190, 4)"
      ]
     },
     "execution_count": 37,
     "metadata": {},
     "output_type": "execute_result"
    }
   ],
   "source": [
    "pred_runs, pred_wks"
   ]
  },
  {
   "cell_type": "code",
   "execution_count": 38,
   "metadata": {
    "executionInfo": {
     "elapsed": 34,
     "status": "aborted",
     "timestamp": 1621847046189,
     "user": {
      "displayName": "Aditya Goenka",
      "photoUrl": "https://lh3.googleusercontent.com/a-/AOh14GioItRIgYpNUWaQmBPNyAk55MEwwhs5ktCDhuH-qw=s64",
      "userId": "10576928572249427265"
     },
     "user_tz": -330
    },
    "id": "fSlU0KJ6lHVX"
   },
   "outputs": [],
   "source": [
    "# 100/1 after 10 overs, runs prediction?"
   ]
  },
  {
   "cell_type": "code",
   "execution_count": 39,
   "metadata": {
    "executionInfo": {
     "elapsed": 34,
     "status": "aborted",
     "timestamp": 1621847046189,
     "user": {
      "displayName": "Aditya Goenka",
      "photoUrl": "https://lh3.googleusercontent.com/a-/AOh14GioItRIgYpNUWaQmBPNyAk55MEwwhs5ktCDhuH-qw=s64",
      "userId": "10576928572249427265"
     },
     "user_tz": -330
    },
    "id": "PFC3uU0XlHVX"
   },
   "outputs": [
    {
     "data": {
      "text/html": [
       "<div>\n",
       "<style scoped>\n",
       "    .dataframe tbody tr th:only-of-type {\n",
       "        vertical-align: middle;\n",
       "    }\n",
       "\n",
       "    .dataframe tbody tr th {\n",
       "        vertical-align: top;\n",
       "    }\n",
       "\n",
       "    .dataframe thead th {\n",
       "        text-align: right;\n",
       "    }\n",
       "</style>\n",
       "<table border=\"1\" class=\"dataframe\">\n",
       "  <thead>\n",
       "    <tr style=\"text-align: right;\">\n",
       "      <th></th>\n",
       "      <th>match_id</th>\n",
       "      <th>season</th>\n",
       "      <th>start_date</th>\n",
       "      <th>venue</th>\n",
       "      <th>innings</th>\n",
       "      <th>ball</th>\n",
       "      <th>batting_team</th>\n",
       "      <th>bowling_team</th>\n",
       "      <th>striker</th>\n",
       "      <th>non_striker</th>\n",
       "      <th>bowler</th>\n",
       "      <th>runs_off_bat</th>\n",
       "      <th>extras</th>\n",
       "      <th>wides</th>\n",
       "      <th>noballs</th>\n",
       "      <th>byes</th>\n",
       "      <th>legbyes</th>\n",
       "      <th>penalty</th>\n",
       "      <th>wicket_type</th>\n",
       "      <th>player_dismissed</th>\n",
       "      <th>other_wicket_type</th>\n",
       "      <th>other_player_dismissed</th>\n",
       "      <th>total_runs</th>\n",
       "      <th>isOut</th>\n",
       "    </tr>\n",
       "  </thead>\n",
       "  <tbody>\n",
       "    <tr>\n",
       "      <th>0</th>\n",
       "      <td>335982</td>\n",
       "      <td>2008</td>\n",
       "      <td>2008-04-18</td>\n",
       "      <td>M Chinnaswamy Stadium</td>\n",
       "      <td>1</td>\n",
       "      <td>0.1</td>\n",
       "      <td>Kolkata Knight Riders</td>\n",
       "      <td>Royal Challengers Bangalore</td>\n",
       "      <td>SC Ganguly</td>\n",
       "      <td>BB McCullum</td>\n",
       "      <td>P Kumar</td>\n",
       "      <td>0</td>\n",
       "      <td>1</td>\n",
       "      <td>NaN</td>\n",
       "      <td>NaN</td>\n",
       "      <td>NaN</td>\n",
       "      <td>1.0</td>\n",
       "      <td>NaN</td>\n",
       "      <td>NaN</td>\n",
       "      <td>NaN</td>\n",
       "      <td>NaN</td>\n",
       "      <td>NaN</td>\n",
       "      <td>1</td>\n",
       "      <td>0</td>\n",
       "    </tr>\n",
       "    <tr>\n",
       "      <th>1</th>\n",
       "      <td>335982</td>\n",
       "      <td>2008</td>\n",
       "      <td>2008-04-18</td>\n",
       "      <td>M Chinnaswamy Stadium</td>\n",
       "      <td>2</td>\n",
       "      <td>3.1</td>\n",
       "      <td>Royal Challengers Bangalore</td>\n",
       "      <td>Kolkata Knight Riders</td>\n",
       "      <td>W Jaffer</td>\n",
       "      <td>JH Kallis</td>\n",
       "      <td>I Sharma</td>\n",
       "      <td>2</td>\n",
       "      <td>0</td>\n",
       "      <td>NaN</td>\n",
       "      <td>NaN</td>\n",
       "      <td>NaN</td>\n",
       "      <td>NaN</td>\n",
       "      <td>NaN</td>\n",
       "      <td>NaN</td>\n",
       "      <td>NaN</td>\n",
       "      <td>NaN</td>\n",
       "      <td>NaN</td>\n",
       "      <td>2</td>\n",
       "      <td>0</td>\n",
       "    </tr>\n",
       "    <tr>\n",
       "      <th>2</th>\n",
       "      <td>335982</td>\n",
       "      <td>2008</td>\n",
       "      <td>2008-04-18</td>\n",
       "      <td>M Chinnaswamy Stadium</td>\n",
       "      <td>2</td>\n",
       "      <td>3.2</td>\n",
       "      <td>Royal Challengers Bangalore</td>\n",
       "      <td>Kolkata Knight Riders</td>\n",
       "      <td>W Jaffer</td>\n",
       "      <td>JH Kallis</td>\n",
       "      <td>I Sharma</td>\n",
       "      <td>1</td>\n",
       "      <td>0</td>\n",
       "      <td>NaN</td>\n",
       "      <td>NaN</td>\n",
       "      <td>NaN</td>\n",
       "      <td>NaN</td>\n",
       "      <td>NaN</td>\n",
       "      <td>NaN</td>\n",
       "      <td>NaN</td>\n",
       "      <td>NaN</td>\n",
       "      <td>NaN</td>\n",
       "      <td>1</td>\n",
       "      <td>0</td>\n",
       "    </tr>\n",
       "    <tr>\n",
       "      <th>3</th>\n",
       "      <td>335982</td>\n",
       "      <td>2008</td>\n",
       "      <td>2008-04-18</td>\n",
       "      <td>M Chinnaswamy Stadium</td>\n",
       "      <td>2</td>\n",
       "      <td>3.3</td>\n",
       "      <td>Royal Challengers Bangalore</td>\n",
       "      <td>Kolkata Knight Riders</td>\n",
       "      <td>JH Kallis</td>\n",
       "      <td>W Jaffer</td>\n",
       "      <td>I Sharma</td>\n",
       "      <td>0</td>\n",
       "      <td>0</td>\n",
       "      <td>NaN</td>\n",
       "      <td>NaN</td>\n",
       "      <td>NaN</td>\n",
       "      <td>NaN</td>\n",
       "      <td>NaN</td>\n",
       "      <td>NaN</td>\n",
       "      <td>NaN</td>\n",
       "      <td>NaN</td>\n",
       "      <td>NaN</td>\n",
       "      <td>0</td>\n",
       "      <td>0</td>\n",
       "    </tr>\n",
       "    <tr>\n",
       "      <th>4</th>\n",
       "      <td>335982</td>\n",
       "      <td>2008</td>\n",
       "      <td>2008-04-18</td>\n",
       "      <td>M Chinnaswamy Stadium</td>\n",
       "      <td>2</td>\n",
       "      <td>3.4</td>\n",
       "      <td>Royal Challengers Bangalore</td>\n",
       "      <td>Kolkata Knight Riders</td>\n",
       "      <td>JH Kallis</td>\n",
       "      <td>W Jaffer</td>\n",
       "      <td>I Sharma</td>\n",
       "      <td>0</td>\n",
       "      <td>1</td>\n",
       "      <td>NaN</td>\n",
       "      <td>NaN</td>\n",
       "      <td>NaN</td>\n",
       "      <td>1.0</td>\n",
       "      <td>NaN</td>\n",
       "      <td>NaN</td>\n",
       "      <td>NaN</td>\n",
       "      <td>NaN</td>\n",
       "      <td>NaN</td>\n",
       "      <td>1</td>\n",
       "      <td>0</td>\n",
       "    </tr>\n",
       "  </tbody>\n",
       "</table>\n",
       "</div>"
      ],
      "text/plain": [
       "   match_id  season  start_date                  venue  innings  ball                 batting_team                 bowling_team     striker  non_striker    bowler  runs_off_bat  extras  wides  noballs  byes  legbyes  penalty wicket_type player_dismissed  other_wicket_type  other_player_dismissed  total_runs  isOut\n",
       "0  335982    2008    2008-04-18  M Chinnaswamy Stadium  1        0.1   Kolkata Knight Riders        Royal Challengers Bangalore  SC Ganguly  BB McCullum  P Kumar   0             1      NaN    NaN      NaN    1.0     NaN       NaN         NaN             NaN                NaN                      1           0    \n",
       "1  335982    2008    2008-04-18  M Chinnaswamy Stadium  2        3.1   Royal Challengers Bangalore  Kolkata Knight Riders        W Jaffer    JH Kallis    I Sharma  2             0      NaN    NaN      NaN   NaN      NaN       NaN         NaN             NaN                NaN                      2           0    \n",
       "2  335982    2008    2008-04-18  M Chinnaswamy Stadium  2        3.2   Royal Challengers Bangalore  Kolkata Knight Riders        W Jaffer    JH Kallis    I Sharma  1             0      NaN    NaN      NaN   NaN      NaN       NaN         NaN             NaN                NaN                      1           0    \n",
       "3  335982    2008    2008-04-18  M Chinnaswamy Stadium  2        3.3   Royal Challengers Bangalore  Kolkata Knight Riders        JH Kallis   W Jaffer     I Sharma  0             0      NaN    NaN      NaN   NaN      NaN       NaN         NaN             NaN                NaN                      0           0    \n",
       "4  335982    2008    2008-04-18  M Chinnaswamy Stadium  2        3.4   Royal Challengers Bangalore  Kolkata Knight Riders        JH Kallis   W Jaffer     I Sharma  0             1      NaN    NaN      NaN    1.0     NaN       NaN         NaN             NaN                NaN                      1           0    "
      ]
     },
     "execution_count": 39,
     "metadata": {},
     "output_type": "execute_result"
    }
   ],
   "source": [
    "ipl_df.head(5)"
   ]
  },
  {
   "cell_type": "code",
   "execution_count": 40,
   "metadata": {
    "executionInfo": {
     "elapsed": 34,
     "status": "aborted",
     "timestamp": 1621847046189,
     "user": {
      "displayName": "Aditya Goenka",
      "photoUrl": "https://lh3.googleusercontent.com/a-/AOh14GioItRIgYpNUWaQmBPNyAk55MEwwhs5ktCDhuH-qw=s64",
      "userId": "10576928572249427265"
     },
     "user_tz": -330
    },
    "id": "eKs1pL2tlHVY"
   },
   "outputs": [
    {
     "name": "stdout",
     "output_type": "stream",
     "text": [
      "119\n"
     ]
    }
   ],
   "source": [
    "over_ball = 19.5\n",
    "\n",
    "over_no = int(str(over_ball).split('.')[0])\n",
    "ball_no = int(str(over_ball).split('.')[1])\n",
    "\n",
    "print(over_no*6 + ball_no)"
   ]
  },
  {
   "cell_type": "code",
   "execution_count": null,
   "metadata": {
    "executionInfo": {
     "elapsed": 34,
     "status": "aborted",
     "timestamp": 1621847046190,
     "user": {
      "displayName": "Aditya Goenka",
      "photoUrl": "https://lh3.googleusercontent.com/a-/AOh14GioItRIgYpNUWaQmBPNyAk55MEwwhs5ktCDhuH-qw=s64",
      "userId": "10576928572249427265"
     },
     "user_tz": -330
    },
    "id": "qAW_IimylHVY"
   },
   "outputs": [],
   "source": []
  },
  {
   "cell_type": "markdown",
   "metadata": {
    "id": "cZA5kk1WlHVY"
   },
   "source": [
    "## Function: 1st Innings runs prediction "
   ]
  },
  {
   "cell_type": "code",
   "execution_count": 41,
   "metadata": {
    "executionInfo": {
     "elapsed": 34,
     "status": "aborted",
     "timestamp": 1621847046190,
     "user": {
      "displayName": "Aditya Goenka",
      "photoUrl": "https://lh3.googleusercontent.com/a-/AOh14GioItRIgYpNUWaQmBPNyAk55MEwwhs5ktCDhuH-qw=s64",
      "userId": "10576928572249427265"
     },
     "user_tz": -330
    },
    "id": "74v6c_FRlHVY"
   },
   "outputs": [],
   "source": [
    "def innings_1_runs(curr_score, curr_wickets, curr_overs):\n",
    "    # initialize\n",
    "    pred_runs = curr_score\n",
    "    pred_wks = curr_wickets\n",
    "    over_ball = curr_overs\n",
    "\n",
    "    over_no = int(str(over_ball).split('.')[0])\n",
    "    ball_no = int(str(over_ball).split('.')[1])\n",
    "\n",
    "    leftover_balls = 120 - (over_no*6 + ball_no)\n",
    "\n",
    "    i1p_0 = t1_pb_ls[0]\n",
    "    i1p_1 = t1_pb_ls[1]\n",
    "    i1p_2 = t1_pb_ls[2]\n",
    "    i1p_3 = t1_pb_ls[3]\n",
    "    i1p_4 = t1_pb_ls[4]\n",
    "    i1p_6 = t1_pb_ls[5]\n",
    "    i1p_w = t1_pb_ls[6]\n",
    "\n",
    "    i2p_0 = t2_pb_ls[0]\n",
    "    i2p_1 = t2_pb_ls[1]\n",
    "    i2p_2 = t2_pb_ls[2]\n",
    "    i2p_3 = t2_pb_ls[3]\n",
    "    i2p_4 = t2_pb_ls[4]\n",
    "    i2p_6 = t2_pb_ls[5]\n",
    "    i2p_w = t2_pb_ls[6]\n",
    "\n",
    "    for i in range(leftover_balls):\n",
    "        r_value = np.random.random()\n",
    "\n",
    "        if r_value <= i1p_0:\n",
    "            pred_runs += 0\n",
    "        elif r_value <= i1p_1:\n",
    "            pred_runs += 1\n",
    "        elif r_value <= i1p_2:\n",
    "            pred_runs += 2\n",
    "        elif r_value <= i1p_3:\n",
    "            pred_runs += 3\n",
    "        elif r_value <= i1p_4:\n",
    "            pred_runs += 4\n",
    "        elif r_value <= i1p_6:\n",
    "            pred_runs += 6\n",
    "        else:\n",
    "            pred_runs += 0\n",
    "            pred_wks += 1   \n",
    "\n",
    "            if pred_wks == 10:\n",
    "                break\n",
    "                \n",
    "    return pred_runs"
   ]
  },
  {
   "cell_type": "code",
   "execution_count": 42,
   "metadata": {
    "executionInfo": {
     "elapsed": 34,
     "status": "aborted",
     "timestamp": 1621847046190,
     "user": {
      "displayName": "Aditya Goenka",
      "photoUrl": "https://lh3.googleusercontent.com/a-/AOh14GioItRIgYpNUWaQmBPNyAk55MEwwhs5ktCDhuH-qw=s64",
      "userId": "10576928572249427265"
     },
     "user_tz": -330
    },
    "id": "q-uGsZmMlHVY"
   },
   "outputs": [
    {
     "data": {
      "text/plain": [
       "146"
      ]
     },
     "execution_count": 42,
     "metadata": {},
     "output_type": "execute_result"
    }
   ],
   "source": [
    "# innings_1_runs(curr_score, curr_wickets, curr_overs)\n",
    "innings_1_runs(140, 9, 15.0)"
   ]
  },
  {
   "cell_type": "code",
   "execution_count": null,
   "metadata": {
    "executionInfo": {
     "elapsed": 35,
     "status": "aborted",
     "timestamp": 1621847046191,
     "user": {
      "displayName": "Aditya Goenka",
      "photoUrl": "https://lh3.googleusercontent.com/a-/AOh14GioItRIgYpNUWaQmBPNyAk55MEwwhs5ktCDhuH-qw=s64",
      "userId": "10576928572249427265"
     },
     "user_tz": -330
    },
    "id": "dcG5KucllHVZ"
   },
   "outputs": [],
   "source": []
  },
  {
   "cell_type": "code",
   "execution_count": null,
   "metadata": {
    "executionInfo": {
     "elapsed": 35,
     "status": "aborted",
     "timestamp": 1621847046191,
     "user": {
      "displayName": "Aditya Goenka",
      "photoUrl": "https://lh3.googleusercontent.com/a-/AOh14GioItRIgYpNUWaQmBPNyAk55MEwwhs5ktCDhuH-qw=s64",
      "userId": "10576928572249427265"
     },
     "user_tz": -330
    },
    "id": "LvwHb9J0lHVZ"
   },
   "outputs": [],
   "source": []
  },
  {
   "cell_type": "code",
   "execution_count": null,
   "metadata": {
    "executionInfo": {
     "elapsed": 36,
     "status": "aborted",
     "timestamp": 1621847046192,
     "user": {
      "displayName": "Aditya Goenka",
      "photoUrl": "https://lh3.googleusercontent.com/a-/AOh14GioItRIgYpNUWaQmBPNyAk55MEwwhs5ktCDhuH-qw=s64",
      "userId": "10576928572249427265"
     },
     "user_tz": -330
    },
    "id": "KVnbr5z-lHVZ"
   },
   "outputs": [],
   "source": []
  },
  {
   "cell_type": "code",
   "execution_count": null,
   "metadata": {
    "executionInfo": {
     "elapsed": 36,
     "status": "aborted",
     "timestamp": 1621847046192,
     "user": {
      "displayName": "Aditya Goenka",
      "photoUrl": "https://lh3.googleusercontent.com/a-/AOh14GioItRIgYpNUWaQmBPNyAk55MEwwhs5ktCDhuH-qw=s64",
      "userId": "10576928572249427265"
     },
     "user_tz": -330
    },
    "id": "ELyXDqU7lHVZ"
   },
   "outputs": [],
   "source": []
  },
  {
   "cell_type": "markdown",
   "metadata": {
    "id": "7sDi0AJ-lHVa"
   },
   "source": [
    "## Function: 2nd Innings runs prediction "
   ]
  },
  {
   "cell_type": "code",
   "execution_count": 43,
   "metadata": {
    "executionInfo": {
     "elapsed": 36,
     "status": "aborted",
     "timestamp": 1621847046193,
     "user": {
      "displayName": "Aditya Goenka",
      "photoUrl": "https://lh3.googleusercontent.com/a-/AOh14GioItRIgYpNUWaQmBPNyAk55MEwwhs5ktCDhuH-qw=s64",
      "userId": "10576928572249427265"
     },
     "user_tz": -330
    },
    "id": "Xf4SNNaAlHVa"
   },
   "outputs": [],
   "source": [
    "def innings_2_runs(curr_score, curr_wickets, curr_overs, target):\n",
    "    # initialize\n",
    "    pred_runs = curr_score\n",
    "    pred_wks = curr_wickets\n",
    "    over_ball = curr_overs\n",
    "\n",
    "    over_no = int(str(over_ball).split('.')[0])\n",
    "    ball_no = int(str(over_ball).split('.')[1])\n",
    "\n",
    "    leftover_balls = 120 - (over_no*6 + ball_no)\n",
    "\n",
    "    i2p_0 = t2_pb_ls[0]\n",
    "    i2p_1 = t2_pb_ls[1]\n",
    "    i2p_2 = t2_pb_ls[2]\n",
    "    i2p_3 = t2_pb_ls[3]\n",
    "    i2p_4 = t2_pb_ls[4]\n",
    "    i2p_6 = t2_pb_ls[5]\n",
    "    i2p_w = t2_pb_ls[6]\n",
    "\n",
    "    for i in range(leftover_balls):\n",
    "        r_value = np.random.random()\n",
    "\n",
    "        if r_value <= i2p_0:\n",
    "            pred_runs += 0\n",
    "        elif r_value <= i2p_1:\n",
    "            pred_runs += 1\n",
    "        elif r_value <= i2p_2:\n",
    "            pred_runs += 2\n",
    "        elif r_value <= i2p_3:\n",
    "            pred_runs += 3\n",
    "        elif r_value <= i2p_4:\n",
    "            pred_runs += 4\n",
    "        elif r_value <= i2p_6:\n",
    "            pred_runs += 6\n",
    "        else:\n",
    "            pred_runs += 0\n",
    "            pred_wks += 1   \n",
    "\n",
    "            if pred_wks == 10:\n",
    "                break\n",
    "        if pred_runs > target:\n",
    "            break\n",
    "                \n",
    "    return pred_runs"
   ]
  },
  {
   "cell_type": "code",
   "execution_count": 44,
   "metadata": {
    "executionInfo": {
     "elapsed": 36,
     "status": "aborted",
     "timestamp": 1621847046193,
     "user": {
      "displayName": "Aditya Goenka",
      "photoUrl": "https://lh3.googleusercontent.com/a-/AOh14GioItRIgYpNUWaQmBPNyAk55MEwwhs5ktCDhuH-qw=s64",
      "userId": "10576928572249427265"
     },
     "user_tz": -330
    },
    "id": "5oR0w6LDlHVa"
   },
   "outputs": [
    {
     "data": {
      "text/plain": [
       "143"
      ]
     },
     "execution_count": 44,
     "metadata": {},
     "output_type": "execute_result"
    }
   ],
   "source": [
    "# innings_2_runs(curr_score, curr_wickets, curr_overs, target)\n",
    "innings_2_runs(140, 4, 19.0, 150)"
   ]
  },
  {
   "cell_type": "code",
   "execution_count": 46,
   "metadata": {
    "executionInfo": {
     "elapsed": 37,
     "status": "aborted",
     "timestamp": 1621847046194,
     "user": {
      "displayName": "Aditya Goenka",
      "photoUrl": "https://lh3.googleusercontent.com/a-/AOh14GioItRIgYpNUWaQmBPNyAk55MEwwhs5ktCDhuH-qw=s64",
      "userId": "10576928572249427265"
     },
     "user_tz": -330
    },
    "id": "HfQeoFCHlHVa"
   },
   "outputs": [],
   "source": [
    "df_ing1 = mdf[mdf.innings == 1] \n",
    "df_ing2 = mdf[mdf.innings == 2] "
   ]
  },
  {
   "cell_type": "code",
   "execution_count": 47,
   "metadata": {
    "executionInfo": {
     "elapsed": 37,
     "status": "aborted",
     "timestamp": 1621847046194,
     "user": {
      "displayName": "Aditya Goenka",
      "photoUrl": "https://lh3.googleusercontent.com/a-/AOh14GioItRIgYpNUWaQmBPNyAk55MEwwhs5ktCDhuH-qw=s64",
      "userId": "10576928572249427265"
     },
     "user_tz": -330
    },
    "id": "NtSiDYx6lHVa"
   },
   "outputs": [
    {
     "data": {
      "text/html": [
       "<div>\n",
       "<style scoped>\n",
       "    .dataframe tbody tr th:only-of-type {\n",
       "        vertical-align: middle;\n",
       "    }\n",
       "\n",
       "    .dataframe tbody tr th {\n",
       "        vertical-align: top;\n",
       "    }\n",
       "\n",
       "    .dataframe thead th {\n",
       "        text-align: right;\n",
       "    }\n",
       "</style>\n",
       "<table border=\"1\" class=\"dataframe\">\n",
       "  <thead>\n",
       "    <tr style=\"text-align: right;\">\n",
       "      <th></th>\n",
       "      <th>match_id</th>\n",
       "      <th>season</th>\n",
       "      <th>start_date</th>\n",
       "      <th>venue</th>\n",
       "      <th>innings</th>\n",
       "      <th>ball</th>\n",
       "      <th>batting_team</th>\n",
       "      <th>bowling_team</th>\n",
       "      <th>striker</th>\n",
       "      <th>non_striker</th>\n",
       "      <th>bowler</th>\n",
       "      <th>runs_off_bat</th>\n",
       "      <th>extras</th>\n",
       "      <th>wides</th>\n",
       "      <th>noballs</th>\n",
       "      <th>byes</th>\n",
       "      <th>legbyes</th>\n",
       "      <th>penalty</th>\n",
       "      <th>wicket_type</th>\n",
       "      <th>player_dismissed</th>\n",
       "      <th>other_wicket_type</th>\n",
       "      <th>other_player_dismissed</th>\n",
       "      <th>total_runs</th>\n",
       "      <th>isOut</th>\n",
       "    </tr>\n",
       "  </thead>\n",
       "  <tbody>\n",
       "    <tr>\n",
       "      <th>0</th>\n",
       "      <td>1254058</td>\n",
       "      <td>2021</td>\n",
       "      <td>2021-04-09</td>\n",
       "      <td>MA Chidambaram Stadium, Chepauk, Chennai</td>\n",
       "      <td>2</td>\n",
       "      <td>6.4</td>\n",
       "      <td>Royal Challengers Bangalore</td>\n",
       "      <td>Mumbai Indians</td>\n",
       "      <td>V Kohli</td>\n",
       "      <td>GJ Maxwell</td>\n",
       "      <td>KH Pandya</td>\n",
       "      <td>0</td>\n",
       "      <td>0</td>\n",
       "      <td>NaN</td>\n",
       "      <td>NaN</td>\n",
       "      <td>NaN</td>\n",
       "      <td>NaN</td>\n",
       "      <td>NaN</td>\n",
       "      <td>NaN</td>\n",
       "      <td>NaN</td>\n",
       "      <td>NaN</td>\n",
       "      <td>NaN</td>\n",
       "      <td>0</td>\n",
       "      <td>0</td>\n",
       "    </tr>\n",
       "    <tr>\n",
       "      <th>1</th>\n",
       "      <td>1254058</td>\n",
       "      <td>2021</td>\n",
       "      <td>2021-04-09</td>\n",
       "      <td>MA Chidambaram Stadium, Chepauk, Chennai</td>\n",
       "      <td>2</td>\n",
       "      <td>6.5</td>\n",
       "      <td>Royal Challengers Bangalore</td>\n",
       "      <td>Mumbai Indians</td>\n",
       "      <td>V Kohli</td>\n",
       "      <td>GJ Maxwell</td>\n",
       "      <td>KH Pandya</td>\n",
       "      <td>1</td>\n",
       "      <td>0</td>\n",
       "      <td>NaN</td>\n",
       "      <td>NaN</td>\n",
       "      <td>NaN</td>\n",
       "      <td>NaN</td>\n",
       "      <td>NaN</td>\n",
       "      <td>NaN</td>\n",
       "      <td>NaN</td>\n",
       "      <td>NaN</td>\n",
       "      <td>NaN</td>\n",
       "      <td>1</td>\n",
       "      <td>0</td>\n",
       "    </tr>\n",
       "  </tbody>\n",
       "</table>\n",
       "</div>"
      ],
      "text/plain": [
       "   match_id  season  start_date                                     venue  innings  ball                 batting_team    bowling_team  striker non_striker     bowler  runs_off_bat  extras  wides  noballs  byes  legbyes  penalty wicket_type player_dismissed  other_wicket_type  other_player_dismissed  total_runs  isOut\n",
       "0  1254058   2021    2021-04-09  MA Chidambaram Stadium, Chepauk, Chennai  2        6.4   Royal Challengers Bangalore  Mumbai Indians  V Kohli  GJ Maxwell  KH Pandya  0             0      NaN    NaN      NaN   NaN      NaN       NaN         NaN             NaN                NaN                      0           0    \n",
       "1  1254058   2021    2021-04-09  MA Chidambaram Stadium, Chepauk, Chennai  2        6.5   Royal Challengers Bangalore  Mumbai Indians  V Kohli  GJ Maxwell  KH Pandya  1             0      NaN    NaN      NaN   NaN      NaN       NaN         NaN             NaN                NaN                      1           0    "
      ]
     },
     "execution_count": 47,
     "metadata": {},
     "output_type": "execute_result"
    }
   ],
   "source": [
    "df_ing2.head(2)"
   ]
  },
  {
   "cell_type": "code",
   "execution_count": 48,
   "metadata": {
    "executionInfo": {
     "elapsed": 37,
     "status": "aborted",
     "timestamp": 1621847046194,
     "user": {
      "displayName": "Aditya Goenka",
      "photoUrl": "https://lh3.googleusercontent.com/a-/AOh14GioItRIgYpNUWaQmBPNyAk55MEwwhs5ktCDhuH-qw=s64",
      "userId": "10576928572249427265"
     },
     "user_tz": -330
    },
    "id": "ykFHjIXClHVb"
   },
   "outputs": [],
   "source": [
    "df_ing1 = df_ing1.sort_values('ball', ascending = True)\n",
    "df_ing2 = df_ing2.sort_values('ball', ascending = True)"
   ]
  },
  {
   "cell_type": "code",
   "execution_count": 49,
   "metadata": {
    "executionInfo": {
     "elapsed": 38,
     "status": "aborted",
     "timestamp": 1621847046195,
     "user": {
      "displayName": "Aditya Goenka",
      "photoUrl": "https://lh3.googleusercontent.com/a-/AOh14GioItRIgYpNUWaQmBPNyAk55MEwwhs5ktCDhuH-qw=s64",
      "userId": "10576928572249427265"
     },
     "user_tz": -330
    },
    "id": "sr9K_7GTlHVb"
   },
   "outputs": [],
   "source": [
    "df_ing1.reset_index(inplace = True, drop = True)\n",
    "df_ing2.reset_index(inplace = True, drop = True)"
   ]
  },
  {
   "cell_type": "code",
   "execution_count": null,
   "metadata": {
    "executionInfo": {
     "elapsed": 37,
     "status": "aborted",
     "timestamp": 1621847046195,
     "user": {
      "displayName": "Aditya Goenka",
      "photoUrl": "https://lh3.googleusercontent.com/a-/AOh14GioItRIgYpNUWaQmBPNyAk55MEwwhs5ktCDhuH-qw=s64",
      "userId": "10576928572249427265"
     },
     "user_tz": -330
    },
    "id": "N2AIlz9ElHVb"
   },
   "outputs": [],
   "source": []
  },
  {
   "cell_type": "markdown",
   "metadata": {
    "id": "rnf2L0bqlHVb"
   },
   "source": [
    "## Runs prediction: 1st Innings"
   ]
  },
  {
   "cell_type": "code",
   "execution_count": 50,
   "metadata": {
    "executionInfo": {
     "elapsed": 37,
     "status": "aborted",
     "timestamp": 1621847046195,
     "user": {
      "displayName": "Aditya Goenka",
      "photoUrl": "https://lh3.googleusercontent.com/a-/AOh14GioItRIgYpNUWaQmBPNyAk55MEwwhs5ktCDhuH-qw=s64",
      "userId": "10576928572249427265"
     },
     "user_tz": -330
    },
    "id": "Lnx5X-QalHVb"
   },
   "outputs": [],
   "source": [
    "curr_score = 0\n",
    "curr_wickets = 0\n",
    "curr_overs = 0.0\n",
    "\n",
    "ing1_runs_pred = []\n",
    "\n",
    "for i in range(len(df_ing1)):\n",
    "    curr_score += df_ing1.total_runs[i]\n",
    "    curr_wickets += df_ing1.isOut[i]\n",
    "    curr_overs = df_ing1.ball[i]\n",
    "    \n",
    "    prediction = innings_1_runs(curr_score, curr_wickets, curr_overs)\n",
    "    ing1_runs_pred.append(prediction)"
   ]
  },
  {
   "cell_type": "code",
   "execution_count": 51,
   "metadata": {
    "executionInfo": {
     "elapsed": 38,
     "status": "aborted",
     "timestamp": 1621847046196,
     "user": {
      "displayName": "Aditya Goenka",
      "photoUrl": "https://lh3.googleusercontent.com/a-/AOh14GioItRIgYpNUWaQmBPNyAk55MEwwhs5ktCDhuH-qw=s64",
      "userId": "10576928572249427265"
     },
     "user_tz": -330
    },
    "id": "tPUwxbnklHVb"
   },
   "outputs": [],
   "source": [
    "# ing1_runs_pred"
   ]
  },
  {
   "cell_type": "code",
   "execution_count": 52,
   "metadata": {
    "executionInfo": {
     "elapsed": 38,
     "status": "aborted",
     "timestamp": 1621847046196,
     "user": {
      "displayName": "Aditya Goenka",
      "photoUrl": "https://lh3.googleusercontent.com/a-/AOh14GioItRIgYpNUWaQmBPNyAk55MEwwhs5ktCDhuH-qw=s64",
      "userId": "10576928572249427265"
     },
     "user_tz": -330
    },
    "id": "E6-91_6HlHVc"
   },
   "outputs": [
    {
     "data": {
      "text/plain": [
       "159"
      ]
     },
     "execution_count": 52,
     "metadata": {},
     "output_type": "execute_result"
    }
   ],
   "source": [
    "sum(df_ing1.total_runs)"
   ]
  },
  {
   "cell_type": "code",
   "execution_count": 53,
   "metadata": {
    "executionInfo": {
     "elapsed": 38,
     "status": "aborted",
     "timestamp": 1621847046196,
     "user": {
      "displayName": "Aditya Goenka",
      "photoUrl": "https://lh3.googleusercontent.com/a-/AOh14GioItRIgYpNUWaQmBPNyAk55MEwwhs5ktCDhuH-qw=s64",
      "userId": "10576928572249427265"
     },
     "user_tz": -330
    },
    "id": "DjtleY_ulHVc"
   },
   "outputs": [],
   "source": [
    "actual_score = sum(df_ing1.total_runs)"
   ]
  },
  {
   "cell_type": "code",
   "execution_count": 54,
   "metadata": {
    "executionInfo": {
     "elapsed": 39,
     "status": "aborted",
     "timestamp": 1621847046197,
     "user": {
      "displayName": "Aditya Goenka",
      "photoUrl": "https://lh3.googleusercontent.com/a-/AOh14GioItRIgYpNUWaQmBPNyAk55MEwwhs5ktCDhuH-qw=s64",
      "userId": "10576928572249427265"
     },
     "user_tz": -330
    },
    "id": "5w4jqF7blHVc"
   },
   "outputs": [
    {
     "data": {
      "image/png": "[encoded data removed]",
      "text/plain": [
       "<Figure size 1152x432 with 1 Axes>"
      ]
     },
     "metadata": {
      "needs_background": "light"
     },
     "output_type": "display_data"
    }
   ],
   "source": [
    "x_values = [i for i in range(len(df_ing1))]\n",
    "y_values = ing1_runs_pred\n",
    "\n",
    "plt.figure(figsize = (16, 6))\n",
    "plt.scatter(x_values, y_values, color = 'r', alpha = 0.5, label = 'pred')\n",
    "plt.axhline(actual_score, ls = '--', color = 'g', label = 'actual')\n",
    "plt.ylim(0, actual_score + 40 )\n",
    "plt.title('First Innings - Runs Prediction :'+ str(actual_score), fontsize = 16)\n",
    "plt.xlabel('Ball No')\n",
    "plt.ylabel('Runs')\n",
    "plt.legend()\n",
    "plt.show()"
   ]
  },
  {
   "cell_type": "code",
   "execution_count": 55,
   "metadata": {
    "executionInfo": {
     "elapsed": 39,
     "status": "aborted",
     "timestamp": 1621847046197,
     "user": {
      "displayName": "Aditya Goenka",
      "photoUrl": "https://lh3.googleusercontent.com/a-/AOh14GioItRIgYpNUWaQmBPNyAk55MEwwhs5ktCDhuH-qw=s64",
      "userId": "10576928572249427265"
     },
     "user_tz": -330
    },
    "id": "uCb6_HOGlHVc"
   },
   "outputs": [],
   "source": [
    "error_ing1_ls = [abs(i - actual_score) for i in ing1_runs_pred]"
   ]
  },
  {
   "cell_type": "code",
   "execution_count": 56,
   "metadata": {
    "executionInfo": {
     "elapsed": 38,
     "status": "aborted",
     "timestamp": 1621847046197,
     "user": {
      "displayName": "Aditya Goenka",
      "photoUrl": "https://lh3.googleusercontent.com/a-/AOh14GioItRIgYpNUWaQmBPNyAk55MEwwhs5ktCDhuH-qw=s64",
      "userId": "10576928572249427265"
     },
     "user_tz": -330
    },
    "id": "fE-SUTv_lHVc"
   },
   "outputs": [
    {
     "data": {
      "text/plain": [
       "11.806451612903226"
      ]
     },
     "execution_count": 56,
     "metadata": {},
     "output_type": "execute_result"
    }
   ],
   "source": [
    "np.mean(error_ing1_ls)"
   ]
  },
  {
   "cell_type": "markdown",
   "metadata": {
    "id": "Inyd0fB9lHVd"
   },
   "source": [
    "## Runs prediction: 2nd Innings"
   ]
  },
  {
   "cell_type": "code",
   "execution_count": 57,
   "metadata": {
    "executionInfo": {
     "elapsed": 39,
     "status": "aborted",
     "timestamp": 1621847046198,
     "user": {
      "displayName": "Aditya Goenka",
      "photoUrl": "https://lh3.googleusercontent.com/a-/AOh14GioItRIgYpNUWaQmBPNyAk55MEwwhs5ktCDhuH-qw=s64",
      "userId": "10576928572249427265"
     },
     "user_tz": -330
    },
    "id": "nv-HzJmvlHVd"
   },
   "outputs": [],
   "source": [
    "# define target as ing 1 actual score\n",
    "ing1_actual_score = actual_score \n",
    "target = ing1_actual_score\n",
    "\n",
    "curr_score = 0\n",
    "curr_wickets = 0\n",
    "curr_overs = 0.0\n",
    "\n",
    "ing2_runs_pred = []\n",
    "\n",
    "for i in range(len(df_ing2)):\n",
    "    curr_score += df_ing2.total_runs[i]\n",
    "    curr_overs = df_ing2.ball[i]\n",
    "    curr_wickets += df_ing2.isOut[i]\n",
    "    \n",
    "    prediction = innings_2_runs(curr_score, curr_wickets, curr_overs, target)\n",
    "#     print('target: ', target)\n",
    "#     print('score: ', curr_score, ' overs: ', curr_overs, ' wickets: ', curr_wickets, ' prediction: ', prediction)\n",
    "    ing2_runs_pred.append(prediction)"
   ]
  },
  {
   "cell_type": "code",
   "execution_count": 58,
   "metadata": {
    "executionInfo": {
     "elapsed": 39,
     "status": "aborted",
     "timestamp": 1621847046198,
     "user": {
      "displayName": "Aditya Goenka",
      "photoUrl": "https://lh3.googleusercontent.com/a-/AOh14GioItRIgYpNUWaQmBPNyAk55MEwwhs5ktCDhuH-qw=s64",
      "userId": "10576928572249427265"
     },
     "user_tz": -330
    },
    "id": "yTE0q82mlHVd"
   },
   "outputs": [],
   "source": [
    "ing2_actual_score = sum(df_ing2.total_runs)"
   ]
  },
  {
   "cell_type": "markdown",
   "metadata": {
    "id": "MdH-mOyQlHVd"
   },
   "source": [
    "## Runs prediction chart: 2nd Innings"
   ]
  },
  {
   "cell_type": "code",
   "execution_count": 59,
   "metadata": {
    "executionInfo": {
     "elapsed": 39,
     "status": "aborted",
     "timestamp": 1621847046198,
     "user": {
      "displayName": "Aditya Goenka",
      "photoUrl": "https://lh3.googleusercontent.com/a-/AOh14GioItRIgYpNUWaQmBPNyAk55MEwwhs5ktCDhuH-qw=s64",
      "userId": "10576928572249427265"
     },
     "user_tz": -330
    },
    "id": "xo7AkC-_lHVd"
   },
   "outputs": [
    {
     "data": {
      "image/png": "[encoded data removed]",
      "text/plain": [
       "<Figure size 1152x432 with 1 Axes>"
      ]
     },
     "metadata": {
      "needs_background": "light"
     },
     "output_type": "display_data"
    }
   ],
   "source": [
    "plt.figure(figsize = (16, 6))\n",
    "plt.scatter([i for i in range(len(ing2_runs_pred))], ing2_runs_pred, alpha = 0.5, label = 'pred', color = 'red')\n",
    "plt.ylim(0, ing2_actual_score + 30)\n",
    "plt.axhline(ing2_actual_score, ls = '--', label = 'actual', color = 'green')\n",
    "plt.title('Second Innings Runs - Prediction vs Actual (' + t2 + ': ' + str(ing2_actual_score) +  ')', fontsize = 16)\n",
    "plt.xlabel('Ball No')\n",
    "plt.ylabel('Runs')\n",
    "plt.legend()\n",
    "plt.show()"
   ]
  },
  {
   "cell_type": "markdown",
   "metadata": {
    "id": "QYeY37RLlHVd"
   },
   "source": [
    "### Error in 2nd Innings runs:"
   ]
  },
  {
   "cell_type": "code",
   "execution_count": 60,
   "metadata": {
    "executionInfo": {
     "elapsed": 39,
     "status": "aborted",
     "timestamp": 1621847046198,
     "user": {
      "displayName": "Aditya Goenka",
      "photoUrl": "https://lh3.googleusercontent.com/a-/AOh14GioItRIgYpNUWaQmBPNyAk55MEwwhs5ktCDhuH-qw=s64",
      "userId": "10576928572249427265"
     },
     "user_tz": -330
    },
    "id": "ChOowwd0lHVe"
   },
   "outputs": [
    {
     "data": {
      "text/plain": [
       "10.801587301587302"
      ]
     },
     "execution_count": 60,
     "metadata": {},
     "output_type": "execute_result"
    }
   ],
   "source": [
    "np.mean([abs(i - ing2_actual_score) for i in ing2_runs_pred])"
   ]
  },
  {
   "cell_type": "code",
   "execution_count": null,
   "metadata": {
    "executionInfo": {
     "elapsed": 39,
     "status": "aborted",
     "timestamp": 1621847046199,
     "user": {
      "displayName": "Aditya Goenka",
      "photoUrl": "https://lh3.googleusercontent.com/a-/AOh14GioItRIgYpNUWaQmBPNyAk55MEwwhs5ktCDhuH-qw=s64",
      "userId": "10576928572249427265"
     },
     "user_tz": -330
    },
    "id": "C64DU5nSlHVe"
   },
   "outputs": [],
   "source": []
  },
  {
   "cell_type": "code",
   "execution_count": null,
   "metadata": {
    "executionInfo": {
     "elapsed": 39,
     "status": "aborted",
     "timestamp": 1621847046199,
     "user": {
      "displayName": "Aditya Goenka",
      "photoUrl": "https://lh3.googleusercontent.com/a-/AOh14GioItRIgYpNUWaQmBPNyAk55MEwwhs5ktCDhuH-qw=s64",
      "userId": "10576928572249427265"
     },
     "user_tz": -330
    },
    "id": "_3Ber-0qlHVe"
   },
   "outputs": [],
   "source": []
  },
  {
   "cell_type": "code",
   "execution_count": null,
   "metadata": {
    "executionInfo": {
     "elapsed": 39,
     "status": "aborted",
     "timestamp": 1621847046199,
     "user": {
      "displayName": "Aditya Goenka",
      "photoUrl": "https://lh3.googleusercontent.com/a-/AOh14GioItRIgYpNUWaQmBPNyAk55MEwwhs5ktCDhuH-qw=s64",
      "userId": "10576928572249427265"
     },
     "user_tz": -330
    },
    "id": "eHRJz46zlHVe"
   },
   "outputs": [],
   "source": []
  },
  {
   "cell_type": "markdown",
   "metadata": {
    "id": "2zh23SjglHVe"
   },
   "source": [
    "## Win predictions: 1st Innings"
   ]
  },
  {
   "cell_type": "code",
   "execution_count": 61,
   "metadata": {
    "executionInfo": {
     "elapsed": 40,
     "status": "aborted",
     "timestamp": 1621847046200,
     "user": {
      "displayName": "Aditya Goenka",
      "photoUrl": "https://lh3.googleusercontent.com/a-/AOh14GioItRIgYpNUWaQmBPNyAk55MEwwhs5ktCDhuH-qw=s64",
      "userId": "10576928572249427265"
     },
     "user_tz": -330
    },
    "id": "JhIgsTzxlHVe"
   },
   "outputs": [],
   "source": [
    "# initialize win/tie/lose - w.r.t chasing team\n",
    "win_count = 0\n",
    "tie_count = 0\n",
    "lose_count = 0\n",
    "\n",
    "win_count_ls = []\n",
    "tie_count_ls = []\n",
    "lose_count_ls = []\n",
    "\n",
    "ing1_curr_score = 0\n",
    "ing1_curr_overs = 0\n",
    "ing1_curr_wickets = 0\n",
    "\n",
    "# each ball\n",
    "for i in range(len(df_ing1)):\n",
    "    \n",
    "    # 1st innings values\n",
    "    ing1_curr_score += df_ing1.total_runs[i]\n",
    "    ing1_curr_overs = df_ing1.ball[i]\n",
    "    ing1_curr_wickets += df_ing1.isOut[i]\n",
    "    \n",
    "    #2nd innings values\n",
    "    ing2_curr_score = 0\n",
    "    ing2_curr_wickets = 0\n",
    "    ing2_curr_overs = 0.0\n",
    "    \n",
    "    # 100 iterations: (ex: 43% wins, 17% tie, 40% lose)\n",
    "    for j in range(100):   \n",
    "        ing1_runs_prediction = innings_1_runs(ing1_curr_score, ing1_curr_wickets, ing1_curr_overs)\n",
    "        target = ing1_runs_prediction\n",
    "        \n",
    "        ing2_runs_prediction = innings_2_runs(ing2_curr_score, ing2_curr_wickets, ing2_curr_overs, target)\n",
    "        \n",
    "        if ing2_runs_prediction > target:\n",
    "            win_count += 1\n",
    "        elif ing2_runs_prediction == target:\n",
    "            tie_count += 1\n",
    "        else:\n",
    "            lose_count += 1\n",
    "            \n",
    "    win_count_ls.append(win_count)\n",
    "    tie_count_ls.append(tie_count)\n",
    "    lose_count_ls.append(lose_count)\n",
    "    \n",
    "    win_count = 0\n",
    "    tie_count = 0\n",
    "    lose_count = 0"
   ]
  },
  {
   "cell_type": "code",
   "execution_count": 62,
   "metadata": {
    "executionInfo": {
     "elapsed": 40,
     "status": "aborted",
     "timestamp": 1621847046200,
     "user": {
      "displayName": "Aditya Goenka",
      "photoUrl": "https://lh3.googleusercontent.com/a-/AOh14GioItRIgYpNUWaQmBPNyAk55MEwwhs5ktCDhuH-qw=s64",
      "userId": "10576928572249427265"
     },
     "user_tz": -330
    },
    "id": "5B4Jli_KlHVf"
   },
   "outputs": [],
   "source": [
    "# tie_count_ls"
   ]
  },
  {
   "cell_type": "code",
   "execution_count": null,
   "metadata": {
    "executionInfo": {
     "elapsed": 40,
     "status": "aborted",
     "timestamp": 1621847046200,
     "user": {
      "displayName": "Aditya Goenka",
      "photoUrl": "https://lh3.googleusercontent.com/a-/AOh14GioItRIgYpNUWaQmBPNyAk55MEwwhs5ktCDhuH-qw=s64",
      "userId": "10576928572249427265"
     },
     "user_tz": -330
    },
    "id": "Yx2UFhiDlHVf"
   },
   "outputs": [],
   "source": []
  },
  {
   "cell_type": "markdown",
   "metadata": {
    "id": "wdKjpkdZlHVf"
   },
   "source": [
    "## Win predictions: 2nd Innings"
   ]
  },
  {
   "cell_type": "code",
   "execution_count": 63,
   "metadata": {
    "executionInfo": {
     "elapsed": 41,
     "status": "aborted",
     "timestamp": 1621847046201,
     "user": {
      "displayName": "Aditya Goenka",
      "photoUrl": "https://lh3.googleusercontent.com/a-/AOh14GioItRIgYpNUWaQmBPNyAk55MEwwhs5ktCDhuH-qw=s64",
      "userId": "10576928572249427265"
     },
     "user_tz": -330
    },
    "id": "dmXMyfoylHVf"
   },
   "outputs": [],
   "source": [
    "#2nd innings values\n",
    "ing2_curr_score = 0\n",
    "ing2_curr_wickets = 0\n",
    "ing2_curr_overs = 0.0\n",
    "target = ing1_actual_score\n",
    "\n",
    "# each ball\n",
    "for i in range(len(df_ing2)):\n",
    "    \n",
    "    #2nd innings values\n",
    "    ing2_curr_score += df_ing2.total_runs[i]\n",
    "    ing2_curr_wickets += df_ing2.isOut[i]\n",
    "    ing2_curr_overs = df_ing2.ball[i]\n",
    "    \n",
    "    # 100 iterations: (ex: 43% wins, 17% tie, 40% lose)\n",
    "    for j in range(100):   \n",
    "                \n",
    "        ing2_runs_prediction = innings_2_runs(ing2_curr_score, ing2_curr_wickets, ing2_curr_overs, target)\n",
    "        \n",
    "        if ing2_runs_prediction > target:\n",
    "            win_count += 1\n",
    "        elif ing2_runs_prediction == target:\n",
    "            tie_count += 1\n",
    "        else:\n",
    "            lose_count += 1\n",
    "            \n",
    "    win_count_ls.append(win_count)\n",
    "    tie_count_ls.append(tie_count)\n",
    "    lose_count_ls.append(lose_count)\n",
    "    \n",
    "    win_count = 0\n",
    "    tie_count = 0\n",
    "    lose_count = 0"
   ]
  },
  {
   "cell_type": "code",
   "execution_count": 64,
   "metadata": {
    "executionInfo": {
     "elapsed": 41,
     "status": "aborted",
     "timestamp": 1621847046201,
     "user": {
      "displayName": "Aditya Goenka",
      "photoUrl": "https://lh3.googleusercontent.com/a-/AOh14GioItRIgYpNUWaQmBPNyAk55MEwwhs5ktCDhuH-qw=s64",
      "userId": "10576928572249427265"
     },
     "user_tz": -330
    },
    "id": "4dK6qI3KlHVf"
   },
   "outputs": [
    {
     "data": {
      "text/plain": [
       "(250, 250, 250)"
      ]
     },
     "execution_count": 64,
     "metadata": {},
     "output_type": "execute_result"
    }
   ],
   "source": [
    "len(win_count_ls), len(tie_count_ls), len(lose_count_ls)"
   ]
  },
  {
   "cell_type": "code",
   "execution_count": 65,
   "metadata": {
    "executionInfo": {
     "elapsed": 40,
     "status": "aborted",
     "timestamp": 1621847046201,
     "user": {
      "displayName": "Aditya Goenka",
      "photoUrl": "https://lh3.googleusercontent.com/a-/AOh14GioItRIgYpNUWaQmBPNyAk55MEwwhs5ktCDhuH-qw=s64",
      "userId": "10576928572249427265"
     },
     "user_tz": -330
    },
    "id": "CJ1Ieo8KlHVg"
   },
   "outputs": [
    {
     "data": {
      "image/png": "[encoded data removed]",
      "text/plain": [
       "<Figure size 1152x432 with 1 Axes>"
      ]
     },
     "metadata": {
      "needs_background": "light"
     },
     "output_type": "display_data"
    }
   ],
   "source": [
    "plt.figure(figsize = (16, 6))\n",
    "\n",
    "x1_values = [i for i in range(len(win_count_ls))]\n",
    "y1_values = win_count_ls\n",
    "\n",
    "x2_values = [i for i in range(len(tie_count_ls))]\n",
    "y2_values = tie_count_ls\n",
    "\n",
    "x3_values = [i for i in range(len(lose_count_ls))]\n",
    "y3_values = lose_count_ls\n",
    "\n",
    "for i in range(10, len(mdf), 20):\n",
    "    if i < len(mdf) - 10:\n",
    "        plt.axvspan(i, i+10, ymin = 0, ymax = 100, alpha = 0.05, color='grey')\n",
    "        \n",
    "plt.axhline(y = 75, ls = '--', alpha = 0.3, c = 'grey')\n",
    "plt.axhline(y = 50, ls = '--', alpha = 1, c = 'grey')\n",
    "plt.axhline(y = 25, ls = '--', alpha = 0.3, c = 'grey')\n",
    "\n",
    "plt.plot(x1_values, y1_values, color = 'orange', label = t2)\n",
    "plt.plot(x2_values, y2_values, color = 'grey', label = 'Tie Value')\n",
    "plt.plot(x3_values, y3_values, color = 'blue', label = t1)\n",
    "\n",
    "plt.ylim(0, 100)\n",
    "plt.yticks([0, 25, 50, 75, 100])\n",
    "\n",
    "\n",
    "# add confidence interval\n",
    "# ci = 3\n",
    "# plt.fill_between(x1_values, np.array(y1_values) - ci, np.array(y1_values) + ci, color = 'orange', alpha = 0.2 )\n",
    "# plt.fill_between(x2_values, np.array(y2_values) - ci, np.array(y2_values) + ci, color = 'grey', alpha = 0.2 )\n",
    "# plt.fill_between(x3_values, np.array(y3_values) - ci, np.array(y3_values) + ci, color = 'blue', alpha = 0.2 )\n",
    "\n",
    "plt.title('Win Percentage Chart: ' + t1 + ' vs ' + t2, fontsize = 16)\n",
    "plt.xlabel('Ball No')\n",
    "plt.ylabel('Win %')\n",
    "plt.legend()\n",
    "plt.show()"
   ]
  },
  {
   "cell_type": "code",
   "execution_count": null,
   "metadata": {
    "executionInfo": {
     "elapsed": 41,
     "status": "aborted",
     "timestamp": 1621847046202,
     "user": {
      "displayName": "Aditya Goenka",
      "photoUrl": "https://lh3.googleusercontent.com/a-/AOh14GioItRIgYpNUWaQmBPNyAk55MEwwhs5ktCDhuH-qw=s64",
      "userId": "10576928572249427265"
     },
     "user_tz": -330
    },
    "id": "XdWR4XDImMqi"
   },
   "outputs": [],
   "source": []
  }
 ],
 "metadata": {
  "colab": {
   "name": "Win% - Prediction Model.ipynb",
   "provenance": [],
   "toc_visible": true
  },
  "kernelspec": {
   "display_name": "Python 3",
   "language": "python",
   "name": "python3"
  },
  "language_info": {
   "codemirror_mode": {
    "name": "ipython",
    "version": 3
   },
   "file_extension": ".py",
   "mimetype": "text/x-python",
   "name": "python",
   "nbconvert_exporter": "python",
   "pygments_lexer": "ipython3",
   "version": "3.7.3"
  }
 },
 "nbformat": 4,
 "nbformat_minor": 1
}
