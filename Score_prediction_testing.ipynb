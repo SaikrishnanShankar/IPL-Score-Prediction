{
  "nbformat": 4,
  "nbformat_minor": 0,
  "metadata": {
    "colab": {
      "name": "Score_prediction_testing.ipynb",
      "provenance": []
    },
    "kernelspec": {
      "name": "python3",
      "display_name": "Python 3"
    },
    "language_info": {
      "name": "python"
    }
  },
  "cells": [
    {
      "cell_type": "code",
      "metadata": {
        "colab": {
          "base_uri": "https://localhost:8080/"
        },
        "id": "dLpwnMRbzm8F",
        "outputId": "135a87ac-36b7-4108-ec7d-be52fd643411"
      },
      "source": [
        "from google.colab import drive\n",
        "drive.mount('/content/drive')"
      ],
      "execution_count": null,
      "outputs": [
        {
          "output_type": "stream",
          "text": [
            "Mounted at /content/drive\n"
          ],
          "name": "stdout"
        }
      ]
    },
    {
      "cell_type": "code",
      "metadata": {
        "id": "VfnDgpEm0UU7"
      },
      "source": [
        "import pandas as pd\n",
        "import numpy as np\n",
        "import math\n",
        "import matplotlib.pyplot as plt\n",
        "from sklearn.model_selection import train_test_split\n",
        "from sklearn.linear_model import LinearRegression\n",
        "import pickle\n",
        "from sklearn.metrics import mean_absolute_error\n",
        "\n",
        "pd.set_option('display.max_columns', None)\n",
        "pd.set_option('display.max_rows', None)\n",
        "pd.set_option('display.expand_frame_repr', False)\n"
      ],
      "execution_count": null,
      "outputs": []
    },
    {
      "cell_type": "code",
      "metadata": {
        "id": "o-_tm4gjz62Z"
      },
      "source": [
        "cdf = pd.read_csv('/content/drive/MyDrive/Cricket_Analytics/Model_data_cricket.csv')"
      ],
      "execution_count": null,
      "outputs": []
    },
    {
      "cell_type": "code",
      "metadata": {
        "colab": {
          "base_uri": "https://localhost:8080/",
          "height": 394
        },
        "id": "qieOb6mK0SsJ",
        "outputId": "10e5cb43-01ae-456b-9f27-85f3aee9ea95"
      },
      "source": [
        "cdf.head()"
      ],
      "execution_count": null,
      "outputs": [
        {
          "output_type": "execute_result",
          "data": {
            "text/html": [
              "<div>\n",
              "<style scoped>\n",
              "    .dataframe tbody tr th:only-of-type {\n",
              "        vertical-align: middle;\n",
              "    }\n",
              "\n",
              "    .dataframe tbody tr th {\n",
              "        vertical-align: top;\n",
              "    }\n",
              "\n",
              "    .dataframe thead th {\n",
              "        text-align: right;\n",
              "    }\n",
              "</style>\n",
              "<table border=\"1\" class=\"dataframe\">\n",
              "  <thead>\n",
              "    <tr style=\"text-align: right;\">\n",
              "      <th></th>\n",
              "      <th>id</th>\n",
              "      <th>inning</th>\n",
              "      <th>batting_team</th>\n",
              "      <th>bowling_team</th>\n",
              "      <th>over</th>\n",
              "      <th>ball</th>\n",
              "      <th>total_runs</th>\n",
              "      <th>player_dismissed</th>\n",
              "      <th>venue</th>\n",
              "      <th>total</th>\n",
              "      <th>total_score</th>\n",
              "      <th>prev_30_runs</th>\n",
              "      <th>prev_30_wickets</th>\n",
              "      <th>total_wickets</th>\n",
              "      <th>prev_30_dot_balls</th>\n",
              "      <th>prev_30_boundaries</th>\n",
              "    </tr>\n",
              "  </thead>\n",
              "  <tbody>\n",
              "    <tr>\n",
              "      <th>0</th>\n",
              "      <td>597999</td>\n",
              "      <td>1</td>\n",
              "      <td>Royal Challengers Bangalore</td>\n",
              "      <td>Mumbai Indians</td>\n",
              "      <td>0</td>\n",
              "      <td>5</td>\n",
              "      <td>0</td>\n",
              "      <td>0</td>\n",
              "      <td>M Chinnaswamy Stadium</td>\n",
              "      <td>156</td>\n",
              "      <td>0</td>\n",
              "      <td>0</td>\n",
              "      <td>0</td>\n",
              "      <td>0</td>\n",
              "      <td>1</td>\n",
              "      <td>0</td>\n",
              "    </tr>\n",
              "    <tr>\n",
              "      <th>1</th>\n",
              "      <td>597999</td>\n",
              "      <td>1</td>\n",
              "      <td>Royal Challengers Bangalore</td>\n",
              "      <td>Mumbai Indians</td>\n",
              "      <td>0</td>\n",
              "      <td>6</td>\n",
              "      <td>0</td>\n",
              "      <td>0</td>\n",
              "      <td>M Chinnaswamy Stadium</td>\n",
              "      <td>156</td>\n",
              "      <td>0</td>\n",
              "      <td>0</td>\n",
              "      <td>0</td>\n",
              "      <td>0</td>\n",
              "      <td>2</td>\n",
              "      <td>0</td>\n",
              "    </tr>\n",
              "    <tr>\n",
              "      <th>2</th>\n",
              "      <td>597999</td>\n",
              "      <td>1</td>\n",
              "      <td>Royal Challengers Bangalore</td>\n",
              "      <td>Mumbai Indians</td>\n",
              "      <td>1</td>\n",
              "      <td>1</td>\n",
              "      <td>0</td>\n",
              "      <td>0</td>\n",
              "      <td>M Chinnaswamy Stadium</td>\n",
              "      <td>156</td>\n",
              "      <td>0</td>\n",
              "      <td>0</td>\n",
              "      <td>0</td>\n",
              "      <td>0</td>\n",
              "      <td>3</td>\n",
              "      <td>0</td>\n",
              "    </tr>\n",
              "    <tr>\n",
              "      <th>3</th>\n",
              "      <td>597999</td>\n",
              "      <td>1</td>\n",
              "      <td>Royal Challengers Bangalore</td>\n",
              "      <td>Mumbai Indians</td>\n",
              "      <td>1</td>\n",
              "      <td>6</td>\n",
              "      <td>0</td>\n",
              "      <td>0</td>\n",
              "      <td>M Chinnaswamy Stadium</td>\n",
              "      <td>156</td>\n",
              "      <td>0</td>\n",
              "      <td>0</td>\n",
              "      <td>0</td>\n",
              "      <td>0</td>\n",
              "      <td>4</td>\n",
              "      <td>0</td>\n",
              "    </tr>\n",
              "    <tr>\n",
              "      <th>4</th>\n",
              "      <td>597999</td>\n",
              "      <td>1</td>\n",
              "      <td>Royal Challengers Bangalore</td>\n",
              "      <td>Mumbai Indians</td>\n",
              "      <td>2</td>\n",
              "      <td>1</td>\n",
              "      <td>1</td>\n",
              "      <td>0</td>\n",
              "      <td>M Chinnaswamy Stadium</td>\n",
              "      <td>156</td>\n",
              "      <td>1</td>\n",
              "      <td>1</td>\n",
              "      <td>0</td>\n",
              "      <td>0</td>\n",
              "      <td>4</td>\n",
              "      <td>0</td>\n",
              "    </tr>\n",
              "  </tbody>\n",
              "</table>\n",
              "</div>"
            ],
            "text/plain": [
              "       id  inning                 batting_team    bowling_team  over  ball  total_runs  player_dismissed                  venue  total  total_score  prev_30_runs  prev_30_wickets  total_wickets  prev_30_dot_balls  prev_30_boundaries\n",
              "0  597999       1  Royal Challengers Bangalore  Mumbai Indians     0     5           0                 0  M Chinnaswamy Stadium    156            0             0                0              0                  1                   0\n",
              "1  597999       1  Royal Challengers Bangalore  Mumbai Indians     0     6           0                 0  M Chinnaswamy Stadium    156            0             0                0              0                  2                   0\n",
              "2  597999       1  Royal Challengers Bangalore  Mumbai Indians     1     1           0                 0  M Chinnaswamy Stadium    156            0             0                0              0                  3                   0\n",
              "3  597999       1  Royal Challengers Bangalore  Mumbai Indians     1     6           0                 0  M Chinnaswamy Stadium    156            0             0                0              0                  4                   0\n",
              "4  597999       1  Royal Challengers Bangalore  Mumbai Indians     2     1           1                 0  M Chinnaswamy Stadium    156            1             1                0              0                  4                   0"
            ]
          },
          "metadata": {
            "tags": []
          },
          "execution_count": 5
        }
      ]
    },
    {
      "cell_type": "code",
      "metadata": {
        "id": "sg8ffDRn0api"
      },
      "source": [
        "temp = cdf.copy()\n",
        "temp = pd.get_dummies(data=temp, columns=['batting_team', 'bowling_team', 'venue'])\n",
        "temp = temp[['id', 'total_score','total_wickets','prev_30_runs','prev_30_wickets','prev_30_dot_balls','prev_30_boundaries','total', 'over', 'ball','batting_team_Chennai Super Kings', 'batting_team_Delhi Capitals',\n",
        "       'batting_team_Kings XI Punjab', 'batting_team_Kolkata Knight Riders',\n",
        "       'batting_team_Mumbai Indians', 'batting_team_Rajasthan Royals',\n",
        "       'batting_team_Royal Challengers Bangalore', 'batting_team_Sunrisers Hyderabad',\n",
        "       'bowling_team_Chennai Super Kings', 'bowling_team_Delhi Capitals',\n",
        "       'bowling_team_Kings XI Punjab', 'bowling_team_Kolkata Knight Riders',\n",
        "       'bowling_team_Mumbai Indians', 'bowling_team_Rajasthan Royals',\n",
        "       'bowling_team_Royal Challengers Bangalore', 'bowling_team_Sunrisers Hyderabad',\n",
        "       'venue_Barabati Stadium', 'venue_Brabourne Stadium',\n",
        "       'venue_Dr. Y.S. Rajasekhara Reddy ACA-VDCA Cricket Stadium',\n",
        "       'venue_Dubai International Cricket Stadium', 'venue_Eden Gardens',\n",
        "       'venue_Feroz Shah Kotla',\n",
        "       'venue_Himachal Pradesh Cricket Association Stadium',\n",
        "       'venue_Holkar Cricket Stadium',\n",
        "       'venue_JSCA International Stadium Complex',\n",
        "       'venue_M Chinnaswamy Stadium', 'venue_M.Chinnaswamy Stadium',\n",
        "       'venue_MA Chidambaram Stadium, Chepauk',\n",
        "       'venue_Maharashtra Cricket Association Stadium',\n",
        "       'venue_Punjab Cricket Association IS Bindra Stadium, Mohali',\n",
        "       'venue_Punjab Cricket Association Stadium, Mohali',\n",
        "       'venue_Rajiv Gandhi International Stadium, Uppal',\n",
        "       'venue_Sardar Patel Stadium, Motera', 'venue_Sawai Mansingh Stadium',\n",
        "       'venue_Sharjah Cricket Stadium', 'venue_Sheikh Zayed Stadium',\n",
        "       'venue_Wankhede Stadium']]\n"
      ],
      "execution_count": null,
      "outputs": []
    },
    {
      "cell_type": "code",
      "metadata": {
        "id": "zePiPNzR0qnK"
      },
      "source": [
        "X = temp.drop(labels=['total','id'], axis=1)\n",
        "y = temp['total'].values"
      ],
      "execution_count": null,
      "outputs": []
    },
    {
      "cell_type": "code",
      "metadata": {
        "id": "Cw7LEAq00wg3"
      },
      "source": [
        "X_train, X_test, y_train, y_test = train_test_split(X, y, test_size=0.20,random_state=42,stratify=y)"
      ],
      "execution_count": null,
      "outputs": []
    },
    {
      "cell_type": "code",
      "metadata": {
        "id": "tNaVcV_p0zQa"
      },
      "source": [
        "X_train=X_train.values\n",
        "X_test=X_test.values\n",
        "X_train=np.asarray(X_train).astype(np.float32)\n",
        "X_test=np.asarray(X_test).astype(np.float32)"
      ],
      "execution_count": null,
      "outputs": []
    },
    {
      "cell_type": "code",
      "metadata": {
        "colab": {
          "base_uri": "https://localhost:8080/"
        },
        "id": "TmjvB6jO013F",
        "outputId": "8d7560fa-58bb-46f4-d3a6-d7c443361e01"
      },
      "source": [
        "print(X_train.shape, X_test.shape, y_train.shape, y_test.shape)"
      ],
      "execution_count": null,
      "outputs": [
        {
          "output_type": "stream",
          "text": [
            "(65827, 45) (16457, 45) (65827,) (16457,)\n"
          ],
          "name": "stdout"
        }
      ]
    },
    {
      "cell_type": "code",
      "metadata": {
        "id": "SSuWAsnq1I93"
      },
      "source": [
        "filename = '/content/drive/MyDrive/Cricket_Analytics/rf_cricket-model.pkl'"
      ],
      "execution_count": null,
      "outputs": []
    },
    {
      "cell_type": "code",
      "metadata": {
        "id": "cb9TyoeT04Xy"
      },
      "source": [
        "import pickle\n",
        "regressor = pickle.load(open(filename, 'rb'))"
      ],
      "execution_count": null,
      "outputs": []
    },
    {
      "cell_type": "code",
      "metadata": {
        "id": "u1F-OI_T1bH1"
      },
      "source": [
        "prediction = regressor.predict(X_test)"
      ],
      "execution_count": null,
      "outputs": []
    },
    {
      "cell_type": "code",
      "metadata": {
        "colab": {
          "base_uri": "https://localhost:8080/"
        },
        "id": "iu-Vfgya1eLZ",
        "outputId": "2abe8760-9280-46f9-f652-19c2499e9a48"
      },
      "source": [
        "print(mean_absolute_error(y_test, prediction))"
      ],
      "execution_count": null,
      "outputs": [
        {
          "output_type": "stream",
          "text": [
            "3.7638693789297943\n"
          ],
          "name": "stdout"
        }
      ]
    },
    {
      "cell_type": "code",
      "metadata": {
        "id": "fALrS51j1g95"
      },
      "source": [
        "from keras.utils.np_utils import to_categorical\n",
        "def encode_team1(team1):\n",
        "    if team1 == 'batting_team_Chennai Super Kings':\n",
        "        return (to_categorical([0], num_classes = 8))[0]\n",
        "    elif team1 == 'batting_team_Delhi Capitals' :\n",
        "        return (to_categorical([1], num_classes = 8))[0]\n",
        "    elif team1 == 'batting_team_Kings XI Punjab':\n",
        "        return (to_categorical([2], num_classes = 8))[0]\n",
        "    elif team1 == 'batting_team_Kolkata Knight Riders':\n",
        "        return (to_categorical([3], num_classes = 8))[0]\n",
        "    elif team1 == 'batting_team_Mumbai Indians':\n",
        "        return (to_categorical([4], num_classes = 8))[0]\n",
        "    elif team1 == 'batting_team_Rajasthan Royals':\n",
        "        return (to_categorical([5], num_classes = 8))[0]\n",
        "    elif team1 == 'batting_team_Royal Challengers Bangalore':\n",
        "        return (to_categorical([6], num_classes = 8))[0]\n",
        "    elif team1 == 'batting_team_Sunrisers Hyderabad':\n",
        "        return (to_categorical([7], num_classes = 8))[0]\n",
        "def encode_team2(team2):\n",
        "    if team2 == 'bowling_team_Chennai Super Kings':\n",
        "        return (to_categorical([0], num_classes = 8))[0]\n",
        "    elif team2 == 'bowling_team_Delhi Capitals' :\n",
        "        return (to_categorical([1], num_classes = 8))[0]\n",
        "    elif team2 == 'bowling_team_Kings XI Punjab':\n",
        "        return (to_categorical([2], num_classes = 8))[0]\n",
        "    elif team2 == 'bowling_team_Kolkata Knight Riders':\n",
        "        return (to_categorical([3], num_classes = 8))[0]\n",
        "    elif team2 == 'bowling_team_Mumbai Indians':\n",
        "        return (to_categorical([4], num_classes = 8))[0]\n",
        "    elif team2 == 'bowling_team_Rajasthan Royals':\n",
        "        return (to_categorical([5], num_classes = 8))[0]\n",
        "    elif team2 == 'bowling_team_Royal Challengers Bangalore':\n",
        "        return (to_categorical([6], num_classes = 8))[0]\n",
        "    elif team2 == 'bowling_team_Sunrisers Hyderabad':\n",
        "        return (to_categorical([7], num_classes = 8))[0]\n",
        "\n",
        "def encode_venue(venue):    \n",
        "    if venue == 'venue_Barabati Stadium':\n",
        "        return (to_categorical([0], num_classes = 21))[0]\n",
        "    elif venue == 'venue_Brabourne Stadium':\n",
        "        return (to_categorical([1], num_classes = 21))[0]\n",
        "    elif venue == 'venue_Dr. Y.S. Rajasekhara Reddy ACA-VDCA Cricket Stadium':\n",
        "        return (to_categorical([2], num_classes = 21))[0]\n",
        "    elif venue == 'venue_Dubai International Cricket Stadium':\n",
        "        return (to_categorical([3], num_classes = 21))[0]\n",
        "    elif venue == 'venue_Eden Gardens':\n",
        "        return (to_categorical([4], num_classes = 21))[0]\n",
        "    elif venue == 'venue_Feroz Shah Kotla':\n",
        "        return (to_categorical([5], num_classes = 21))[0]\n",
        "    elif venue == 'venue_Himachal Pradesh Cricket Association Stadium':\n",
        "        return (to_categorical([6], num_classes = 21))[0]\n",
        "    elif venue == 'venue_Holkar Cricket Stadium':\n",
        "        return (to_categorical([7], num_classes = 21))[0]\n",
        "    elif venue == 'venue_JSCA International Stadium Complex':\n",
        "        return (to_categorical([8], num_classes = 21))[0]\n",
        "    elif venue == 'venue_M Chinnaswamy Stadium':\n",
        "        return (to_categorical([9], num_classes = 21))[0]\n",
        "    elif venue == 'venue_M.Chinnaswamy Stadium':\n",
        "        return (to_categorical([10], num_classes = 21))[0]\n",
        "    elif venue == 'venue_MA Chidambaram Stadium, Chepauk':\n",
        "        return (to_categorical([11], num_classes = 21))[0]\n",
        "    elif venue == 'venue_Maharashtra Cricket Association Stadium':\n",
        "        return (to_categorical([12], num_classes = 21))[0]\n",
        "    elif venue == 'venue_Punjab Cricket Association IS Bindra Stadium, Mohali':\n",
        "        return (to_categorical([13], num_classes = 21))[0]\n",
        "    elif venue == 'venue_Punjab Cricket Association Stadium, Mohali':\n",
        "        return (to_categorical([14], num_classes = 21))[0]\n",
        "    elif venue == 'venue_Rajiv Gandhi International Stadium, Uppal':\n",
        "        return (to_categorical([15], num_classes = 21))[0]\n",
        "    elif venue == 'venue_Sardar Patel Stadium, Motera':\n",
        "        return (to_categorical([16], num_classes = 21))[0]\n",
        "    elif venue == 'venue_Sawai Mansingh Stadium':\n",
        "        return (to_categorical([17], num_classes = 21))[0]\n",
        "    elif venue == 'venue_Sharjah Cricket Stadium':\n",
        "        return (to_categorical([18], num_classes = 21))[0]\n",
        "    elif venue == 'venue_Sheikh Zayed Stadium':\n",
        "        return (to_categorical([19], num_classes = 21))[0]\n",
        "    elif venue == 'venue_Wankhede Stadium':\n",
        "        return (to_categorical([20], num_classes = 21))[0]\n",
        "    "
      ],
      "execution_count": null,
      "outputs": []
    },
    {
      "cell_type": "code",
      "metadata": {
        "colab": {
          "base_uri": "https://localhost:8080/"
        },
        "id": "V3H_XE3UBcPB",
        "outputId": "54029216-1e23-4c96-8235-19c8a323fe0a"
      },
      "source": [
        "team1 = 'batting_team_Sunrisers Hyderabad'\n",
        "team2 = 'bowling_team_Delhi Capitals'\n",
        "venue = 'venue_MA Chidambaram Stadium, Chepauk'\n",
        "over = 14\n",
        "ball = 6\n",
        "\n",
        "total_score =  110# current score\n",
        "\n",
        "total_wickets = 4# current wicket \n",
        "\n",
        "prev_runs_30 =  30# runs in last 30 balls\n",
        "\n",
        "prev_wickets_30 = 2# wickets in last 30 balls\n",
        "\n",
        "prev_30_dot_balls = 10  # dots in last 30 balls\n",
        "\n",
        "prev_30_boundaries =2 # boundaries in last 30 balls\n",
        "array = [total_score, total_wickets, prev_runs_30, prev_wickets_30, prev_30_dot_balls, prev_30_boundaries, over, ball]\n",
        "array.extend(encode_team1(team1))\n",
        "array.extend(encode_team2(team2))\n",
        "array.extend(encode_venue(venue))\n",
        "data = np.array([array])\n",
        "my_prediction = int(regressor.predict(data))\n",
        "\n",
        "print('Predicted score: ',my_prediction)\n",
        "print('Predicted score range: ',my_prediction - 3, 'to' , my_prediction + 3)"
      ],
      "execution_count": null,
      "outputs": [
        {
          "output_type": "stream",
          "text": [
            "Predicted score:  153\n",
            "Predicted score range:  150 to 156\n"
          ],
          "name": "stdout"
        }
      ]
    },
    {
      "cell_type": "code",
      "metadata": {
        "id": "BPGT5h-vDZzS"
      },
      "source": [
        ""
      ],
      "execution_count": null,
      "outputs": []
    },
    {
      "cell_type": "code",
      "metadata": {
        "id": "-JawXn_KE3mj"
      },
      "source": [
        ""
      ],
      "execution_count": null,
      "outputs": []
    }
  ]
}